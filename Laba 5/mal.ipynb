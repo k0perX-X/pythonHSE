{
 "cells": [
  {
   "cell_type": "code",
   "execution_count": 1,
   "metadata": {
    "collapsed": true
   },
   "outputs": [],
   "source": [
    "import requests\n",
    "import pandas as pd\n",
    "from pprint import pprint\n",
    "from koinput import ProgressBar\n",
    "import lxml\n",
    "from bs4 import BeautifulSoup\n",
    "from multiprocessing.dummy import Pool as ThreadPool"
   ]
  },
  {
   "cell_type": "code",
   "execution_count": 2,
   "outputs": [],
   "source": [
    "df = pd.DataFrame(columns=[\n",
    "    'Name',\n",
    "    'Score rank',\n",
    "    'Popularity rank',\n",
    "    'Score',\n",
    "    'Episodes',\n",
    "    'TV/OVA/ONA',\n",
    "    'Link',\n",
    "    'English name',\n",
    "    'Synonyms',\n",
    "    'Japanese name',\n",
    "    'Status',\n",
    "    'Aired',\n",
    "    'Producers',\n",
    "    'Licensors',\n",
    "    'Studios',\n",
    "    'Source',\n",
    "    'Genres',\n",
    "    'Duration',\n",
    "    'Rating',\n",
    "    'Members Total',\n",
    "    'Members Watching',\n",
    "    'Members Completed',\n",
    "    'Members On-Hold',\n",
    "    'Members Dropped',\n",
    "    'Members Plan to Watch',\n",
    "    'Members Score 10',\n",
    "    'Members Score 9',\n",
    "    'Members Score 8',\n",
    "    'Members Score 7',\n",
    "    'Members Score 6',\n",
    "    'Members Score 5',\n",
    "    'Members Score 4',\n",
    "    'Members Score 3',\n",
    "    'Members Score 2',\n",
    "    'Members Score 1',\n",
    "])\n",
    "df = df.set_index('Score rank')"
   ],
   "metadata": {
    "collapsed": false,
    "pycharm": {
     "name": "#%%\n"
    }
   }
  },
  {
   "cell_type": "code",
   "execution_count": 3,
   "outputs": [],
   "source": [
    "url = 'https://myanimelist.net/topanime.php'\n",
    "headers = {\n",
    "    \"Accept\": 'text/html,application/xhtml+xml,application/xml;q=0.9,*/*;q=0.8',\n",
    "    'Accept-Language': 'en-us,en;q=0.5',\n",
    "    'Accept-Encoding': 'gzip,deflate',\n",
    "    'Accept-Charset': 'ISO-8859-1,utf-8;q=0.7,*;q=0.7',\n",
    "    'Keep-Alive': '300',\n",
    "    'Connection': 'keep-alive',\n",
    "    'Cookie': 'PHPSESSID=r2t5uvjq435r4q7ib3vtdjq120',\n",
    "    'Pragma': 'no-cache',\n",
    "    'Cache-Control': 'no-cache',\n",
    "}\n",
    "res = requests.get(url, headers=headers)\n",
    "tree = lxml.etree.fromstring(res.text, parser= lxml.etree.HTMLParser())"
   ],
   "metadata": {
    "collapsed": false,
    "pycharm": {
     "name": "#%%\n"
    }
   }
  },
  {
   "cell_type": "code",
   "execution_count": 4,
   "outputs": [],
   "source": [
    "# /html/body/div[1]/div[2]/div[3]/div[2]/div[4]/table/tbody/tr\n",
    "# /html/body/div[1]/div[2]/div[3]/div[2]/div[4]/table/tbody/tr[2]/td[2]/div/div[2]/h3/a\n",
    "# /html/body/div[1]/div[2]/div[3]/div[2]/div[4]/table/tbody/tr[2]/td[1]/span\n",
    "# /html/body/div[1]/div[2]/div[3]/div[2]/div[4]/table/tbody/tr[2]/td[3]/div/span\n",
    "# /html/body/div[1]/div[2]/div[3]/div[2]/div[4]/table/tbody/tr[2]/td[2]/div/div[3]\n",
    "# /html/body/div[1]/div/div[3]/div[2]/table/tr/td[2]/div/table/tr[1]/td/div[1]/div[1]/div[1]/div[1]/div[2]/span[2]/strong/text()\n",
    "# /html/body/div[1]/div[2]/div[3]/div[2]/table/tr/td[2]/div[1]/table/tr[1]/td/div[1]/div[1]/div[1]/div[1]/div[2]/span[2]/strong/text()\n",
    "# first = True\n",
    "# i = 0\n",
    "# ProgressBar.max_value = 50\n",
    "# ProgressBar.counter = True\n",
    "# ProgressBar.string = \"[########################################] @@@ page\"\n",
    "# for row in tree.xpath('/html/body/div[1]/div[2]/div[3]/div[2]/div[4]/table/tr'):\n",
    "#     if first:\n",
    "#         first = False\n",
    "#     else:\n",
    "#         i += 1\n",
    "#         link = row.xpath('td[2]/div/div[2]/h3/a')[0].get(\"href\")\n",
    "#         anime_page_res = requests.get(link, headers=headers)\n",
    "#         anime_page = lxml.etree.fromstring(anime_page_res.text,\n",
    "#                                            parser=lxml.etree.HTMLParser())\n",
    "#         # print(anime_page.xpath('/html/body/div[1]/div[2]/div[3]/div[2]/table/tr/td[2]/div[1]/table/tr[1]/td/div[1]/div[1]/div[1]/div[1]/div[2]/span[2]/strong/text()'))\n",
    "#         if len(anime_page.xpath('/html/body/div[1]/div[2]/div[3]/div[2]/table/tr/td[2]/div[1]/table/tr[1]/td/div[1]/div[1]/div[1]/div[1]/div[2]/span[2]/strong/text()')) == 0:\n",
    "#             ProgressBar.show(i,  str(anime_page.xpath('/html/body/div[1]/div/div[3]/div[2]/table/tr/td[2]/div/table/tr[1]/td/div[1]/div[1]/div[1]/div[1]/div[2]/span[2]/strong/text()'))) # # /html/body/div[1]/div/div[3]/div[2]/table/tr/td[2]/div/table/tr[1]/td/div[1]/div[1]/div[1]/div[1]/div[2]/span[2]/strong/text()\n",
    "#         else:\n",
    "#             ProgressBar.show(i, str(anime_page.xpath('/html/body/div[1]/div[2]/div[3]/div[2]/table/tr/td[2]/div[1]/table/tr[1]/td/div[1]/div[1]/div[1]/div[1]/div[2]/span[2]/strong/text()')))\n",
    "#         dic = {\n",
    "#             'Name': row.xpath('td[2]/div/div[2]/h3/a/text()')[0],\n",
    "#             'Score rank': row.xpath('td[1]/span/text()')[0] ,\n",
    "#             'Popularity rank': None,\n",
    "#             'Score': row.xpath('td[3]/div/span/text()')[0],\n",
    "#             'Episodes': None,\n",
    "#             'TV/OVA/ONA': None,\n",
    "#             'Link': link,\n",
    "#             'English name': None,\n",
    "#             'Synonyms': None,\n",
    "#             'Japanese name': None,\n",
    "#             'Status': None,\n",
    "#             'Aired': None,\n",
    "#             'Producers': None,\n",
    "#             'Licensors': None,\n",
    "#             'Studios': None,\n",
    "#             'Source': None,\n",
    "#             'Genres': None,\n",
    "#             'Duration': None,\n",
    "#             'Rating': None,\n",
    "#             'Members Total': None,\n",
    "#             'Members Watching': None,\n",
    "#             'Members Completed': None,\n",
    "#             'Members On-Hold': None,\n",
    "#             'Members Dropped': None,\n",
    "#             'Members Plan to Watch': None,\n",
    "#             'Members Score 10': None,\n",
    "#             'Members Score 9': None,\n",
    "#             'Members Score 8': None,\n",
    "#             'Members Score 7': None,\n",
    "#             'Members Score 6': None,\n",
    "#             'Members Score 5': None,\n",
    "#             'Members Score 4': None,\n",
    "#             'Members Score 3': None,\n",
    "#             'Members Score 2': None,\n",
    "#             'Members Score 1': None,\n",
    "#         }\n",
    "#         # pprint(dic)\n",
    "#         df = df.append(dic, ignore_index=True)\n",
    "#         pass\n",
    "# # print(tree.xpath('/html/body/div[1]/div[2]/div[3]/div[2]/div[4]/table/tr/td'))\n",
    "# df\n"
   ],
   "metadata": {
    "collapsed": false,
    "pycharm": {
     "name": "#%%\n"
    }
   }
  },
  {
   "cell_type": "code",
   "execution_count": 5,
   "outputs": [],
   "source": [
    "def anime_dic(url: str):\n",
    "    anime_page_res = requests.get(url, headers=headers)\n",
    "    soup = BeautifulSoup(anime_page_res.text, features=\"html.parser\")\n",
    "    dic = {\n",
    "            'Name': soup.find(class_='title-name h1_bold_none').text,\n",
    "            'Score rank': soup.find(class_='numbers ranked').text,\n",
    "            'Popularity rank': None,\n",
    "            'Score': None,\n",
    "            'Episodes': None,\n",
    "            'TV/OVA/ONA': None,\n",
    "            'Link': url,\n",
    "            'English name': None,\n",
    "            'Synonyms': None,\n",
    "            'Japanese name': None,\n",
    "            'Status': None,\n",
    "            'Aired': None,\n",
    "            'Producers': None,\n",
    "            'Licensors': None,\n",
    "            'Studios': None,\n",
    "            'Source': None,\n",
    "            'Genres': None,\n",
    "            'Duration': None,\n",
    "            'Rating': None,\n",
    "            'Members Total': None,\n",
    "            'Members Watching': None,\n",
    "            'Members Completed': None,\n",
    "            'Members On-Hold': None,\n",
    "            'Members Dropped': None,\n",
    "            'Members Plan to Watch': None,\n",
    "            'Members Score 10': None,\n",
    "            'Members Score 9': None,\n",
    "            'Members Score 8': None,\n",
    "            'Members Score 7': None,\n",
    "            'Members Score 6': None,\n",
    "            'Members Score 5': None,\n",
    "            'Members Score 4': None,\n",
    "            'Members Score 3': None,\n",
    "            'Members Score 2': None,\n",
    "            'Members Score 1': None,\n",
    "        }\n",
    "    return dic"
   ],
   "metadata": {
    "collapsed": false,
    "pycharm": {
     "name": "#%%\n"
    }
   }
  },
  {
   "cell_type": "code",
   "execution_count": 6,
   "outputs": [
    {
     "data": {
      "text/plain": "                                                 Name Popularity rank Score  \\\n0                    Fullmetal Alchemist: Brotherhood            None  None   \n1                  Shingeki no Kyojin Season 3 Part 2            None  None   \n2                                         Steins;Gate            None  None   \n3                                            Gintama°            None  None   \n4                              Hunter x Hunter (2011)            None  None   \n5                                            Gintama'            None  None   \n6                                Ginga Eiyuu Densetsu            None  None   \n7                                 Gintama': Enchousen            None  None   \n8                Shingeki no Kyojin: The Final Season            None  None   \n9                          3-gatsu no Lion 2nd Season            None  None   \n10                                     Koe no Katachi            None  None   \n11                                           Gintama.            None  None   \n12                                            Gintama            None  None   \n13                               Clannad: After Story            None  None   \n14  Gintama Movie 2: Kanketsu-hen - Yorozuya yo Ei...            None  None   \n15                                     Kimi no Na wa.            None  None   \n16                         Owarimonogatari 2nd Season            None  None   \n17                 Code Geass: Hangyaku no Lelouch R2            None  None   \n18   Gintama.: Shirogane no Tamashii-hen - Kouhan-sen            None  None   \n19  Haikyuu!!: Karasuno Koukou vs. Shiratorizawa G...            None  None   \n20                                  Mob Psycho 100 II            None  None   \n21  Fate/stay night Movie: Heaven's Feel - III. Sp...            None  None   \n22                Gintama.: Shirogane no Tamashii-hen            None  None   \n23                   Kizumonogatari III: Reiketsu-hen            None  None   \n24                      Sen to Chihiro no Kamikakushi            None  None   \n25                                Jujutsu Kaisen (TV)            None  None   \n26           Kimetsu no Yaiba Movie: Mugen Ressha-hen            None  None   \n27                                 Gintama: The Final            None  None   \n28                   Monogatari Series: Second Season            None  None   \n29  Shouwa Genroku Rakugo Shinjuu: Sukeroku Futata...            None  None   \n30                                       Cowboy Bebop            None  None   \n31                           Fruits Basket: The Final            None  None   \n32                                            Monster            None  None   \n33                      Mushishi Zoku Shou 2nd Season            None  None   \n34                                     Hajime no Ippo            None  None   \n35                                      Made in Abyss            None  None   \n36   Made in Abyss Movie 3: Fukaki Tamashii no Reimei            None  None   \n37                                 Mushishi Zoku Shou            None  None   \n38  Rurouni Kenshin: Meiji Kenkaku Romantan - Tsui...            None  None   \n39                            Shigatsu wa Kimi no Uso            None  None   \n40                            Violet Evergarden Movie            None  None   \n41                                       Vinland Saga            None  None   \n42                    Code Geass: Hangyaku no Lelouch            None  None   \n43                                      Mononoke Hime            None  None   \n44                              Great Teacher Onizuka            None  None   \n45                            Haikyuu!! Second Season            None  None   \n46  Kaguya-sama wa Kokurasetai?: Tensai-tachi no R...            None  None   \n47                                           Mushishi            None  None   \n48                                 Fumetsu no Anata e            None  None   \n49  Seishun Buta Yarou wa Yumemiru Shoujo no Yume ...            None  None   \n\n   Episodes TV/OVA/ONA                                               Link  \\\n0      None       None  https://myanimelist.net/anime/5114/Fullmetal_A...   \n1      None       None  https://myanimelist.net/anime/38524/Shingeki_n...   \n2      None       None     https://myanimelist.net/anime/9253/Steins_Gate   \n3      None       None       https://myanimelist.net/anime/28977/Gintama°   \n4      None       None  https://myanimelist.net/anime/11061/Hunter_x_H...   \n5      None       None         https://myanimelist.net/anime/9969/Gintama   \n6      None       None  https://myanimelist.net/anime/820/Ginga_Eiyuu_...   \n7      None       None  https://myanimelist.net/anime/15417/Gintama__E...   \n8      None       None  https://myanimelist.net/anime/40028/Shingeki_n...   \n9      None       None  https://myanimelist.net/anime/35180/3-gatsu_no...   \n10     None       None  https://myanimelist.net/anime/28851/Koe_no_Kat...   \n11     None       None        https://myanimelist.net/anime/34096/Gintama   \n12     None       None          https://myanimelist.net/anime/918/Gintama   \n13     None       None  https://myanimelist.net/anime/4181/Clannad__Af...   \n14     None       None  https://myanimelist.net/anime/15335/Gintama_Mo...   \n15     None       None  https://myanimelist.net/anime/32281/Kimi_no_Na_wa   \n16     None       None  https://myanimelist.net/anime/35247/Owarimonog...   \n17     None       None  https://myanimelist.net/anime/2904/Code_Geass_...   \n18     None       None  https://myanimelist.net/anime/37491/Gintama__S...   \n19     None       None  https://myanimelist.net/anime/32935/Haikyuu__K...   \n20     None       None  https://myanimelist.net/anime/37510/Mob_Psycho...   \n21     None       None  https://myanimelist.net/anime/33050/Fate_stay_...   \n22     None       None  https://myanimelist.net/anime/36838/Gintama__S...   \n23     None       None  https://myanimelist.net/anime/31758/Kizumonoga...   \n24     None       None  https://myanimelist.net/anime/199/Sen_to_Chihi...   \n25     None       None  https://myanimelist.net/anime/40748/Jujutsu_Ka...   \n26     None       None  https://myanimelist.net/anime/40456/Kimetsu_no...   \n27     None       None  https://myanimelist.net/anime/39486/Gintama__T...   \n28     None       None  https://myanimelist.net/anime/17074/Monogatari...   \n29     None       None  https://myanimelist.net/anime/33095/Shouwa_Gen...   \n30     None       None       https://myanimelist.net/anime/1/Cowboy_Bebop   \n31     None       None  https://myanimelist.net/anime/42938/Fruits_Bas...   \n32     None       None           https://myanimelist.net/anime/19/Monster   \n33     None       None  https://myanimelist.net/anime/24701/Mushishi_Z...   \n34     None       None   https://myanimelist.net/anime/263/Hajime_no_Ippo   \n35     None       None  https://myanimelist.net/anime/34599/Made_in_Abyss   \n36     None       None  https://myanimelist.net/anime/36862/Made_in_Ab...   \n37     None       None  https://myanimelist.net/anime/21939/Mushishi_Z...   \n38     None       None  https://myanimelist.net/anime/44/Rurouni_Kensh...   \n39     None       None  https://myanimelist.net/anime/23273/Shigatsu_w...   \n40     None       None  https://myanimelist.net/anime/37987/Violet_Eve...   \n41     None       None   https://myanimelist.net/anime/37521/Vinland_Saga   \n42     None       None  https://myanimelist.net/anime/1575/Code_Geass_...   \n43     None       None    https://myanimelist.net/anime/164/Mononoke_Hime   \n44     None       None  https://myanimelist.net/anime/245/Great_Teache...   \n45     None       None  https://myanimelist.net/anime/28891/Haikyuu_Se...   \n46     None       None  https://myanimelist.net/anime/40591/Kaguya-sam...   \n47     None       None         https://myanimelist.net/anime/457/Mushishi   \n48     None       None  https://myanimelist.net/anime/41025/Fumetsu_no...   \n49     None       None  https://myanimelist.net/anime/38329/Seishun_Bu...   \n\n   English name Synonyms Japanese name Status  ... Members Score 9  \\\n0          None     None          None   None  ...            None   \n1          None     None          None   None  ...            None   \n2          None     None          None   None  ...            None   \n3          None     None          None   None  ...            None   \n4          None     None          None   None  ...            None   \n5          None     None          None   None  ...            None   \n6          None     None          None   None  ...            None   \n7          None     None          None   None  ...            None   \n8          None     None          None   None  ...            None   \n9          None     None          None   None  ...            None   \n10         None     None          None   None  ...            None   \n11         None     None          None   None  ...            None   \n12         None     None          None   None  ...            None   \n13         None     None          None   None  ...            None   \n14         None     None          None   None  ...            None   \n15         None     None          None   None  ...            None   \n16         None     None          None   None  ...            None   \n17         None     None          None   None  ...            None   \n18         None     None          None   None  ...            None   \n19         None     None          None   None  ...            None   \n20         None     None          None   None  ...            None   \n21         None     None          None   None  ...            None   \n22         None     None          None   None  ...            None   \n23         None     None          None   None  ...            None   \n24         None     None          None   None  ...            None   \n25         None     None          None   None  ...            None   \n26         None     None          None   None  ...            None   \n27         None     None          None   None  ...            None   \n28         None     None          None   None  ...            None   \n29         None     None          None   None  ...            None   \n30         None     None          None   None  ...            None   \n31         None     None          None   None  ...            None   \n32         None     None          None   None  ...            None   \n33         None     None          None   None  ...            None   \n34         None     None          None   None  ...            None   \n35         None     None          None   None  ...            None   \n36         None     None          None   None  ...            None   \n37         None     None          None   None  ...            None   \n38         None     None          None   None  ...            None   \n39         None     None          None   None  ...            None   \n40         None     None          None   None  ...            None   \n41         None     None          None   None  ...            None   \n42         None     None          None   None  ...            None   \n43         None     None          None   None  ...            None   \n44         None     None          None   None  ...            None   \n45         None     None          None   None  ...            None   \n46         None     None          None   None  ...            None   \n47         None     None          None   None  ...            None   \n48         None     None          None   None  ...            None   \n49         None     None          None   None  ...            None   \n\n   Members Score 8 Members Score 7 Members Score 6 Members Score 5  \\\n0             None            None            None            None   \n1             None            None            None            None   \n2             None            None            None            None   \n3             None            None            None            None   \n4             None            None            None            None   \n5             None            None            None            None   \n6             None            None            None            None   \n7             None            None            None            None   \n8             None            None            None            None   \n9             None            None            None            None   \n10            None            None            None            None   \n11            None            None            None            None   \n12            None            None            None            None   \n13            None            None            None            None   \n14            None            None            None            None   \n15            None            None            None            None   \n16            None            None            None            None   \n17            None            None            None            None   \n18            None            None            None            None   \n19            None            None            None            None   \n20            None            None            None            None   \n21            None            None            None            None   \n22            None            None            None            None   \n23            None            None            None            None   \n24            None            None            None            None   \n25            None            None            None            None   \n26            None            None            None            None   \n27            None            None            None            None   \n28            None            None            None            None   \n29            None            None            None            None   \n30            None            None            None            None   \n31            None            None            None            None   \n32            None            None            None            None   \n33            None            None            None            None   \n34            None            None            None            None   \n35            None            None            None            None   \n36            None            None            None            None   \n37            None            None            None            None   \n38            None            None            None            None   \n39            None            None            None            None   \n40            None            None            None            None   \n41            None            None            None            None   \n42            None            None            None            None   \n43            None            None            None            None   \n44            None            None            None            None   \n45            None            None            None            None   \n46            None            None            None            None   \n47            None            None            None            None   \n48            None            None            None            None   \n49            None            None            None            None   \n\n   Members Score 4 Members Score 3 Members Score 2 Members Score 1  Score rank  \n0             None            None            None            None   Ranked #1  \n1             None            None            None            None   Ranked #2  \n2             None            None            None            None   Ranked #3  \n3             None            None            None            None   Ranked #4  \n4             None            None            None            None   Ranked #5  \n5             None            None            None            None   Ranked #6  \n6             None            None            None            None   Ranked #7  \n7             None            None            None            None   Ranked #8  \n8             None            None            None            None   Ranked #9  \n9             None            None            None            None  Ranked #10  \n10            None            None            None            None  Ranked #11  \n11            None            None            None            None  Ranked #12  \n12            None            None            None            None  Ranked #13  \n13            None            None            None            None  Ranked #14  \n14            None            None            None            None  Ranked #15  \n15            None            None            None            None  Ranked #16  \n16            None            None            None            None  Ranked #17  \n17            None            None            None            None  Ranked #18  \n18            None            None            None            None  Ranked #19  \n19            None            None            None            None  Ranked #20  \n20            None            None            None            None  Ranked #21  \n21            None            None            None            None  Ranked #22  \n22            None            None            None            None  Ranked #23  \n23            None            None            None            None  Ranked #24  \n24            None            None            None            None  Ranked #25  \n25            None            None            None            None  Ranked #26  \n26            None            None            None            None  Ranked #27  \n27            None            None            None            None  Ranked #28  \n28            None            None            None            None  Ranked #29  \n29            None            None            None            None  Ranked #30  \n30            None            None            None            None  Ranked #31  \n31            None            None            None            None  Ranked #32  \n32            None            None            None            None  Ranked #33  \n33            None            None            None            None  Ranked #34  \n34            None            None            None            None  Ranked #35  \n35            None            None            None            None  Ranked #36  \n36            None            None            None            None  Ranked #37  \n37            None            None            None            None  Ranked #38  \n38            None            None            None            None  Ranked #39  \n39            None            None            None            None  Ranked #40  \n40            None            None            None            None  Ranked #41  \n41            None            None            None            None  Ranked #42  \n42            None            None            None            None  Ranked #43  \n43            None            None            None            None  Ranked #44  \n44            None            None            None            None  Ranked #45  \n45            None            None            None            None  Ranked #46  \n46            None            None            None            None  Ranked #47  \n47            None            None            None            None  Ranked #48  \n48            None            None            None            None  Ranked #49  \n49            None            None            None            None  Ranked #50  \n\n[50 rows x 35 columns]",
      "text/html": "<div>\n<style scoped>\n    .dataframe tbody tr th:only-of-type {\n        vertical-align: middle;\n    }\n\n    .dataframe tbody tr th {\n        vertical-align: top;\n    }\n\n    .dataframe thead th {\n        text-align: right;\n    }\n</style>\n<table border=\"1\" class=\"dataframe\">\n  <thead>\n    <tr style=\"text-align: right;\">\n      <th></th>\n      <th>Name</th>\n      <th>Popularity rank</th>\n      <th>Score</th>\n      <th>Episodes</th>\n      <th>TV/OVA/ONA</th>\n      <th>Link</th>\n      <th>English name</th>\n      <th>Synonyms</th>\n      <th>Japanese name</th>\n      <th>Status</th>\n      <th>...</th>\n      <th>Members Score 9</th>\n      <th>Members Score 8</th>\n      <th>Members Score 7</th>\n      <th>Members Score 6</th>\n      <th>Members Score 5</th>\n      <th>Members Score 4</th>\n      <th>Members Score 3</th>\n      <th>Members Score 2</th>\n      <th>Members Score 1</th>\n      <th>Score rank</th>\n    </tr>\n  </thead>\n  <tbody>\n    <tr>\n      <th>0</th>\n      <td>Fullmetal Alchemist: Brotherhood</td>\n      <td>None</td>\n      <td>None</td>\n      <td>None</td>\n      <td>None</td>\n      <td>https://myanimelist.net/anime/5114/Fullmetal_A...</td>\n      <td>None</td>\n      <td>None</td>\n      <td>None</td>\n      <td>None</td>\n      <td>...</td>\n      <td>None</td>\n      <td>None</td>\n      <td>None</td>\n      <td>None</td>\n      <td>None</td>\n      <td>None</td>\n      <td>None</td>\n      <td>None</td>\n      <td>None</td>\n      <td>Ranked #1</td>\n    </tr>\n    <tr>\n      <th>1</th>\n      <td>Shingeki no Kyojin Season 3 Part 2</td>\n      <td>None</td>\n      <td>None</td>\n      <td>None</td>\n      <td>None</td>\n      <td>https://myanimelist.net/anime/38524/Shingeki_n...</td>\n      <td>None</td>\n      <td>None</td>\n      <td>None</td>\n      <td>None</td>\n      <td>...</td>\n      <td>None</td>\n      <td>None</td>\n      <td>None</td>\n      <td>None</td>\n      <td>None</td>\n      <td>None</td>\n      <td>None</td>\n      <td>None</td>\n      <td>None</td>\n      <td>Ranked #2</td>\n    </tr>\n    <tr>\n      <th>2</th>\n      <td>Steins;Gate</td>\n      <td>None</td>\n      <td>None</td>\n      <td>None</td>\n      <td>None</td>\n      <td>https://myanimelist.net/anime/9253/Steins_Gate</td>\n      <td>None</td>\n      <td>None</td>\n      <td>None</td>\n      <td>None</td>\n      <td>...</td>\n      <td>None</td>\n      <td>None</td>\n      <td>None</td>\n      <td>None</td>\n      <td>None</td>\n      <td>None</td>\n      <td>None</td>\n      <td>None</td>\n      <td>None</td>\n      <td>Ranked #3</td>\n    </tr>\n    <tr>\n      <th>3</th>\n      <td>Gintama°</td>\n      <td>None</td>\n      <td>None</td>\n      <td>None</td>\n      <td>None</td>\n      <td>https://myanimelist.net/anime/28977/Gintama°</td>\n      <td>None</td>\n      <td>None</td>\n      <td>None</td>\n      <td>None</td>\n      <td>...</td>\n      <td>None</td>\n      <td>None</td>\n      <td>None</td>\n      <td>None</td>\n      <td>None</td>\n      <td>None</td>\n      <td>None</td>\n      <td>None</td>\n      <td>None</td>\n      <td>Ranked #4</td>\n    </tr>\n    <tr>\n      <th>4</th>\n      <td>Hunter x Hunter (2011)</td>\n      <td>None</td>\n      <td>None</td>\n      <td>None</td>\n      <td>None</td>\n      <td>https://myanimelist.net/anime/11061/Hunter_x_H...</td>\n      <td>None</td>\n      <td>None</td>\n      <td>None</td>\n      <td>None</td>\n      <td>...</td>\n      <td>None</td>\n      <td>None</td>\n      <td>None</td>\n      <td>None</td>\n      <td>None</td>\n      <td>None</td>\n      <td>None</td>\n      <td>None</td>\n      <td>None</td>\n      <td>Ranked #5</td>\n    </tr>\n    <tr>\n      <th>5</th>\n      <td>Gintama'</td>\n      <td>None</td>\n      <td>None</td>\n      <td>None</td>\n      <td>None</td>\n      <td>https://myanimelist.net/anime/9969/Gintama</td>\n      <td>None</td>\n      <td>None</td>\n      <td>None</td>\n      <td>None</td>\n      <td>...</td>\n      <td>None</td>\n      <td>None</td>\n      <td>None</td>\n      <td>None</td>\n      <td>None</td>\n      <td>None</td>\n      <td>None</td>\n      <td>None</td>\n      <td>None</td>\n      <td>Ranked #6</td>\n    </tr>\n    <tr>\n      <th>6</th>\n      <td>Ginga Eiyuu Densetsu</td>\n      <td>None</td>\n      <td>None</td>\n      <td>None</td>\n      <td>None</td>\n      <td>https://myanimelist.net/anime/820/Ginga_Eiyuu_...</td>\n      <td>None</td>\n      <td>None</td>\n      <td>None</td>\n      <td>None</td>\n      <td>...</td>\n      <td>None</td>\n      <td>None</td>\n      <td>None</td>\n      <td>None</td>\n      <td>None</td>\n      <td>None</td>\n      <td>None</td>\n      <td>None</td>\n      <td>None</td>\n      <td>Ranked #7</td>\n    </tr>\n    <tr>\n      <th>7</th>\n      <td>Gintama': Enchousen</td>\n      <td>None</td>\n      <td>None</td>\n      <td>None</td>\n      <td>None</td>\n      <td>https://myanimelist.net/anime/15417/Gintama__E...</td>\n      <td>None</td>\n      <td>None</td>\n      <td>None</td>\n      <td>None</td>\n      <td>...</td>\n      <td>None</td>\n      <td>None</td>\n      <td>None</td>\n      <td>None</td>\n      <td>None</td>\n      <td>None</td>\n      <td>None</td>\n      <td>None</td>\n      <td>None</td>\n      <td>Ranked #8</td>\n    </tr>\n    <tr>\n      <th>8</th>\n      <td>Shingeki no Kyojin: The Final Season</td>\n      <td>None</td>\n      <td>None</td>\n      <td>None</td>\n      <td>None</td>\n      <td>https://myanimelist.net/anime/40028/Shingeki_n...</td>\n      <td>None</td>\n      <td>None</td>\n      <td>None</td>\n      <td>None</td>\n      <td>...</td>\n      <td>None</td>\n      <td>None</td>\n      <td>None</td>\n      <td>None</td>\n      <td>None</td>\n      <td>None</td>\n      <td>None</td>\n      <td>None</td>\n      <td>None</td>\n      <td>Ranked #9</td>\n    </tr>\n    <tr>\n      <th>9</th>\n      <td>3-gatsu no Lion 2nd Season</td>\n      <td>None</td>\n      <td>None</td>\n      <td>None</td>\n      <td>None</td>\n      <td>https://myanimelist.net/anime/35180/3-gatsu_no...</td>\n      <td>None</td>\n      <td>None</td>\n      <td>None</td>\n      <td>None</td>\n      <td>...</td>\n      <td>None</td>\n      <td>None</td>\n      <td>None</td>\n      <td>None</td>\n      <td>None</td>\n      <td>None</td>\n      <td>None</td>\n      <td>None</td>\n      <td>None</td>\n      <td>Ranked #10</td>\n    </tr>\n    <tr>\n      <th>10</th>\n      <td>Koe no Katachi</td>\n      <td>None</td>\n      <td>None</td>\n      <td>None</td>\n      <td>None</td>\n      <td>https://myanimelist.net/anime/28851/Koe_no_Kat...</td>\n      <td>None</td>\n      <td>None</td>\n      <td>None</td>\n      <td>None</td>\n      <td>...</td>\n      <td>None</td>\n      <td>None</td>\n      <td>None</td>\n      <td>None</td>\n      <td>None</td>\n      <td>None</td>\n      <td>None</td>\n      <td>None</td>\n      <td>None</td>\n      <td>Ranked #11</td>\n    </tr>\n    <tr>\n      <th>11</th>\n      <td>Gintama.</td>\n      <td>None</td>\n      <td>None</td>\n      <td>None</td>\n      <td>None</td>\n      <td>https://myanimelist.net/anime/34096/Gintama</td>\n      <td>None</td>\n      <td>None</td>\n      <td>None</td>\n      <td>None</td>\n      <td>...</td>\n      <td>None</td>\n      <td>None</td>\n      <td>None</td>\n      <td>None</td>\n      <td>None</td>\n      <td>None</td>\n      <td>None</td>\n      <td>None</td>\n      <td>None</td>\n      <td>Ranked #12</td>\n    </tr>\n    <tr>\n      <th>12</th>\n      <td>Gintama</td>\n      <td>None</td>\n      <td>None</td>\n      <td>None</td>\n      <td>None</td>\n      <td>https://myanimelist.net/anime/918/Gintama</td>\n      <td>None</td>\n      <td>None</td>\n      <td>None</td>\n      <td>None</td>\n      <td>...</td>\n      <td>None</td>\n      <td>None</td>\n      <td>None</td>\n      <td>None</td>\n      <td>None</td>\n      <td>None</td>\n      <td>None</td>\n      <td>None</td>\n      <td>None</td>\n      <td>Ranked #13</td>\n    </tr>\n    <tr>\n      <th>13</th>\n      <td>Clannad: After Story</td>\n      <td>None</td>\n      <td>None</td>\n      <td>None</td>\n      <td>None</td>\n      <td>https://myanimelist.net/anime/4181/Clannad__Af...</td>\n      <td>None</td>\n      <td>None</td>\n      <td>None</td>\n      <td>None</td>\n      <td>...</td>\n      <td>None</td>\n      <td>None</td>\n      <td>None</td>\n      <td>None</td>\n      <td>None</td>\n      <td>None</td>\n      <td>None</td>\n      <td>None</td>\n      <td>None</td>\n      <td>Ranked #14</td>\n    </tr>\n    <tr>\n      <th>14</th>\n      <td>Gintama Movie 2: Kanketsu-hen - Yorozuya yo Ei...</td>\n      <td>None</td>\n      <td>None</td>\n      <td>None</td>\n      <td>None</td>\n      <td>https://myanimelist.net/anime/15335/Gintama_Mo...</td>\n      <td>None</td>\n      <td>None</td>\n      <td>None</td>\n      <td>None</td>\n      <td>...</td>\n      <td>None</td>\n      <td>None</td>\n      <td>None</td>\n      <td>None</td>\n      <td>None</td>\n      <td>None</td>\n      <td>None</td>\n      <td>None</td>\n      <td>None</td>\n      <td>Ranked #15</td>\n    </tr>\n    <tr>\n      <th>15</th>\n      <td>Kimi no Na wa.</td>\n      <td>None</td>\n      <td>None</td>\n      <td>None</td>\n      <td>None</td>\n      <td>https://myanimelist.net/anime/32281/Kimi_no_Na_wa</td>\n      <td>None</td>\n      <td>None</td>\n      <td>None</td>\n      <td>None</td>\n      <td>...</td>\n      <td>None</td>\n      <td>None</td>\n      <td>None</td>\n      <td>None</td>\n      <td>None</td>\n      <td>None</td>\n      <td>None</td>\n      <td>None</td>\n      <td>None</td>\n      <td>Ranked #16</td>\n    </tr>\n    <tr>\n      <th>16</th>\n      <td>Owarimonogatari 2nd Season</td>\n      <td>None</td>\n      <td>None</td>\n      <td>None</td>\n      <td>None</td>\n      <td>https://myanimelist.net/anime/35247/Owarimonog...</td>\n      <td>None</td>\n      <td>None</td>\n      <td>None</td>\n      <td>None</td>\n      <td>...</td>\n      <td>None</td>\n      <td>None</td>\n      <td>None</td>\n      <td>None</td>\n      <td>None</td>\n      <td>None</td>\n      <td>None</td>\n      <td>None</td>\n      <td>None</td>\n      <td>Ranked #17</td>\n    </tr>\n    <tr>\n      <th>17</th>\n      <td>Code Geass: Hangyaku no Lelouch R2</td>\n      <td>None</td>\n      <td>None</td>\n      <td>None</td>\n      <td>None</td>\n      <td>https://myanimelist.net/anime/2904/Code_Geass_...</td>\n      <td>None</td>\n      <td>None</td>\n      <td>None</td>\n      <td>None</td>\n      <td>...</td>\n      <td>None</td>\n      <td>None</td>\n      <td>None</td>\n      <td>None</td>\n      <td>None</td>\n      <td>None</td>\n      <td>None</td>\n      <td>None</td>\n      <td>None</td>\n      <td>Ranked #18</td>\n    </tr>\n    <tr>\n      <th>18</th>\n      <td>Gintama.: Shirogane no Tamashii-hen - Kouhan-sen</td>\n      <td>None</td>\n      <td>None</td>\n      <td>None</td>\n      <td>None</td>\n      <td>https://myanimelist.net/anime/37491/Gintama__S...</td>\n      <td>None</td>\n      <td>None</td>\n      <td>None</td>\n      <td>None</td>\n      <td>...</td>\n      <td>None</td>\n      <td>None</td>\n      <td>None</td>\n      <td>None</td>\n      <td>None</td>\n      <td>None</td>\n      <td>None</td>\n      <td>None</td>\n      <td>None</td>\n      <td>Ranked #19</td>\n    </tr>\n    <tr>\n      <th>19</th>\n      <td>Haikyuu!!: Karasuno Koukou vs. Shiratorizawa G...</td>\n      <td>None</td>\n      <td>None</td>\n      <td>None</td>\n      <td>None</td>\n      <td>https://myanimelist.net/anime/32935/Haikyuu__K...</td>\n      <td>None</td>\n      <td>None</td>\n      <td>None</td>\n      <td>None</td>\n      <td>...</td>\n      <td>None</td>\n      <td>None</td>\n      <td>None</td>\n      <td>None</td>\n      <td>None</td>\n      <td>None</td>\n      <td>None</td>\n      <td>None</td>\n      <td>None</td>\n      <td>Ranked #20</td>\n    </tr>\n    <tr>\n      <th>20</th>\n      <td>Mob Psycho 100 II</td>\n      <td>None</td>\n      <td>None</td>\n      <td>None</td>\n      <td>None</td>\n      <td>https://myanimelist.net/anime/37510/Mob_Psycho...</td>\n      <td>None</td>\n      <td>None</td>\n      <td>None</td>\n      <td>None</td>\n      <td>...</td>\n      <td>None</td>\n      <td>None</td>\n      <td>None</td>\n      <td>None</td>\n      <td>None</td>\n      <td>None</td>\n      <td>None</td>\n      <td>None</td>\n      <td>None</td>\n      <td>Ranked #21</td>\n    </tr>\n    <tr>\n      <th>21</th>\n      <td>Fate/stay night Movie: Heaven's Feel - III. Sp...</td>\n      <td>None</td>\n      <td>None</td>\n      <td>None</td>\n      <td>None</td>\n      <td>https://myanimelist.net/anime/33050/Fate_stay_...</td>\n      <td>None</td>\n      <td>None</td>\n      <td>None</td>\n      <td>None</td>\n      <td>...</td>\n      <td>None</td>\n      <td>None</td>\n      <td>None</td>\n      <td>None</td>\n      <td>None</td>\n      <td>None</td>\n      <td>None</td>\n      <td>None</td>\n      <td>None</td>\n      <td>Ranked #22</td>\n    </tr>\n    <tr>\n      <th>22</th>\n      <td>Gintama.: Shirogane no Tamashii-hen</td>\n      <td>None</td>\n      <td>None</td>\n      <td>None</td>\n      <td>None</td>\n      <td>https://myanimelist.net/anime/36838/Gintama__S...</td>\n      <td>None</td>\n      <td>None</td>\n      <td>None</td>\n      <td>None</td>\n      <td>...</td>\n      <td>None</td>\n      <td>None</td>\n      <td>None</td>\n      <td>None</td>\n      <td>None</td>\n      <td>None</td>\n      <td>None</td>\n      <td>None</td>\n      <td>None</td>\n      <td>Ranked #23</td>\n    </tr>\n    <tr>\n      <th>23</th>\n      <td>Kizumonogatari III: Reiketsu-hen</td>\n      <td>None</td>\n      <td>None</td>\n      <td>None</td>\n      <td>None</td>\n      <td>https://myanimelist.net/anime/31758/Kizumonoga...</td>\n      <td>None</td>\n      <td>None</td>\n      <td>None</td>\n      <td>None</td>\n      <td>...</td>\n      <td>None</td>\n      <td>None</td>\n      <td>None</td>\n      <td>None</td>\n      <td>None</td>\n      <td>None</td>\n      <td>None</td>\n      <td>None</td>\n      <td>None</td>\n      <td>Ranked #24</td>\n    </tr>\n    <tr>\n      <th>24</th>\n      <td>Sen to Chihiro no Kamikakushi</td>\n      <td>None</td>\n      <td>None</td>\n      <td>None</td>\n      <td>None</td>\n      <td>https://myanimelist.net/anime/199/Sen_to_Chihi...</td>\n      <td>None</td>\n      <td>None</td>\n      <td>None</td>\n      <td>None</td>\n      <td>...</td>\n      <td>None</td>\n      <td>None</td>\n      <td>None</td>\n      <td>None</td>\n      <td>None</td>\n      <td>None</td>\n      <td>None</td>\n      <td>None</td>\n      <td>None</td>\n      <td>Ranked #25</td>\n    </tr>\n    <tr>\n      <th>25</th>\n      <td>Jujutsu Kaisen (TV)</td>\n      <td>None</td>\n      <td>None</td>\n      <td>None</td>\n      <td>None</td>\n      <td>https://myanimelist.net/anime/40748/Jujutsu_Ka...</td>\n      <td>None</td>\n      <td>None</td>\n      <td>None</td>\n      <td>None</td>\n      <td>...</td>\n      <td>None</td>\n      <td>None</td>\n      <td>None</td>\n      <td>None</td>\n      <td>None</td>\n      <td>None</td>\n      <td>None</td>\n      <td>None</td>\n      <td>None</td>\n      <td>Ranked #26</td>\n    </tr>\n    <tr>\n      <th>26</th>\n      <td>Kimetsu no Yaiba Movie: Mugen Ressha-hen</td>\n      <td>None</td>\n      <td>None</td>\n      <td>None</td>\n      <td>None</td>\n      <td>https://myanimelist.net/anime/40456/Kimetsu_no...</td>\n      <td>None</td>\n      <td>None</td>\n      <td>None</td>\n      <td>None</td>\n      <td>...</td>\n      <td>None</td>\n      <td>None</td>\n      <td>None</td>\n      <td>None</td>\n      <td>None</td>\n      <td>None</td>\n      <td>None</td>\n      <td>None</td>\n      <td>None</td>\n      <td>Ranked #27</td>\n    </tr>\n    <tr>\n      <th>27</th>\n      <td>Gintama: The Final</td>\n      <td>None</td>\n      <td>None</td>\n      <td>None</td>\n      <td>None</td>\n      <td>https://myanimelist.net/anime/39486/Gintama__T...</td>\n      <td>None</td>\n      <td>None</td>\n      <td>None</td>\n      <td>None</td>\n      <td>...</td>\n      <td>None</td>\n      <td>None</td>\n      <td>None</td>\n      <td>None</td>\n      <td>None</td>\n      <td>None</td>\n      <td>None</td>\n      <td>None</td>\n      <td>None</td>\n      <td>Ranked #28</td>\n    </tr>\n    <tr>\n      <th>28</th>\n      <td>Monogatari Series: Second Season</td>\n      <td>None</td>\n      <td>None</td>\n      <td>None</td>\n      <td>None</td>\n      <td>https://myanimelist.net/anime/17074/Monogatari...</td>\n      <td>None</td>\n      <td>None</td>\n      <td>None</td>\n      <td>None</td>\n      <td>...</td>\n      <td>None</td>\n      <td>None</td>\n      <td>None</td>\n      <td>None</td>\n      <td>None</td>\n      <td>None</td>\n      <td>None</td>\n      <td>None</td>\n      <td>None</td>\n      <td>Ranked #29</td>\n    </tr>\n    <tr>\n      <th>29</th>\n      <td>Shouwa Genroku Rakugo Shinjuu: Sukeroku Futata...</td>\n      <td>None</td>\n      <td>None</td>\n      <td>None</td>\n      <td>None</td>\n      <td>https://myanimelist.net/anime/33095/Shouwa_Gen...</td>\n      <td>None</td>\n      <td>None</td>\n      <td>None</td>\n      <td>None</td>\n      <td>...</td>\n      <td>None</td>\n      <td>None</td>\n      <td>None</td>\n      <td>None</td>\n      <td>None</td>\n      <td>None</td>\n      <td>None</td>\n      <td>None</td>\n      <td>None</td>\n      <td>Ranked #30</td>\n    </tr>\n    <tr>\n      <th>30</th>\n      <td>Cowboy Bebop</td>\n      <td>None</td>\n      <td>None</td>\n      <td>None</td>\n      <td>None</td>\n      <td>https://myanimelist.net/anime/1/Cowboy_Bebop</td>\n      <td>None</td>\n      <td>None</td>\n      <td>None</td>\n      <td>None</td>\n      <td>...</td>\n      <td>None</td>\n      <td>None</td>\n      <td>None</td>\n      <td>None</td>\n      <td>None</td>\n      <td>None</td>\n      <td>None</td>\n      <td>None</td>\n      <td>None</td>\n      <td>Ranked #31</td>\n    </tr>\n    <tr>\n      <th>31</th>\n      <td>Fruits Basket: The Final</td>\n      <td>None</td>\n      <td>None</td>\n      <td>None</td>\n      <td>None</td>\n      <td>https://myanimelist.net/anime/42938/Fruits_Bas...</td>\n      <td>None</td>\n      <td>None</td>\n      <td>None</td>\n      <td>None</td>\n      <td>...</td>\n      <td>None</td>\n      <td>None</td>\n      <td>None</td>\n      <td>None</td>\n      <td>None</td>\n      <td>None</td>\n      <td>None</td>\n      <td>None</td>\n      <td>None</td>\n      <td>Ranked #32</td>\n    </tr>\n    <tr>\n      <th>32</th>\n      <td>Monster</td>\n      <td>None</td>\n      <td>None</td>\n      <td>None</td>\n      <td>None</td>\n      <td>https://myanimelist.net/anime/19/Monster</td>\n      <td>None</td>\n      <td>None</td>\n      <td>None</td>\n      <td>None</td>\n      <td>...</td>\n      <td>None</td>\n      <td>None</td>\n      <td>None</td>\n      <td>None</td>\n      <td>None</td>\n      <td>None</td>\n      <td>None</td>\n      <td>None</td>\n      <td>None</td>\n      <td>Ranked #33</td>\n    </tr>\n    <tr>\n      <th>33</th>\n      <td>Mushishi Zoku Shou 2nd Season</td>\n      <td>None</td>\n      <td>None</td>\n      <td>None</td>\n      <td>None</td>\n      <td>https://myanimelist.net/anime/24701/Mushishi_Z...</td>\n      <td>None</td>\n      <td>None</td>\n      <td>None</td>\n      <td>None</td>\n      <td>...</td>\n      <td>None</td>\n      <td>None</td>\n      <td>None</td>\n      <td>None</td>\n      <td>None</td>\n      <td>None</td>\n      <td>None</td>\n      <td>None</td>\n      <td>None</td>\n      <td>Ranked #34</td>\n    </tr>\n    <tr>\n      <th>34</th>\n      <td>Hajime no Ippo</td>\n      <td>None</td>\n      <td>None</td>\n      <td>None</td>\n      <td>None</td>\n      <td>https://myanimelist.net/anime/263/Hajime_no_Ippo</td>\n      <td>None</td>\n      <td>None</td>\n      <td>None</td>\n      <td>None</td>\n      <td>...</td>\n      <td>None</td>\n      <td>None</td>\n      <td>None</td>\n      <td>None</td>\n      <td>None</td>\n      <td>None</td>\n      <td>None</td>\n      <td>None</td>\n      <td>None</td>\n      <td>Ranked #35</td>\n    </tr>\n    <tr>\n      <th>35</th>\n      <td>Made in Abyss</td>\n      <td>None</td>\n      <td>None</td>\n      <td>None</td>\n      <td>None</td>\n      <td>https://myanimelist.net/anime/34599/Made_in_Abyss</td>\n      <td>None</td>\n      <td>None</td>\n      <td>None</td>\n      <td>None</td>\n      <td>...</td>\n      <td>None</td>\n      <td>None</td>\n      <td>None</td>\n      <td>None</td>\n      <td>None</td>\n      <td>None</td>\n      <td>None</td>\n      <td>None</td>\n      <td>None</td>\n      <td>Ranked #36</td>\n    </tr>\n    <tr>\n      <th>36</th>\n      <td>Made in Abyss Movie 3: Fukaki Tamashii no Reimei</td>\n      <td>None</td>\n      <td>None</td>\n      <td>None</td>\n      <td>None</td>\n      <td>https://myanimelist.net/anime/36862/Made_in_Ab...</td>\n      <td>None</td>\n      <td>None</td>\n      <td>None</td>\n      <td>None</td>\n      <td>...</td>\n      <td>None</td>\n      <td>None</td>\n      <td>None</td>\n      <td>None</td>\n      <td>None</td>\n      <td>None</td>\n      <td>None</td>\n      <td>None</td>\n      <td>None</td>\n      <td>Ranked #37</td>\n    </tr>\n    <tr>\n      <th>37</th>\n      <td>Mushishi Zoku Shou</td>\n      <td>None</td>\n      <td>None</td>\n      <td>None</td>\n      <td>None</td>\n      <td>https://myanimelist.net/anime/21939/Mushishi_Z...</td>\n      <td>None</td>\n      <td>None</td>\n      <td>None</td>\n      <td>None</td>\n      <td>...</td>\n      <td>None</td>\n      <td>None</td>\n      <td>None</td>\n      <td>None</td>\n      <td>None</td>\n      <td>None</td>\n      <td>None</td>\n      <td>None</td>\n      <td>None</td>\n      <td>Ranked #38</td>\n    </tr>\n    <tr>\n      <th>38</th>\n      <td>Rurouni Kenshin: Meiji Kenkaku Romantan - Tsui...</td>\n      <td>None</td>\n      <td>None</td>\n      <td>None</td>\n      <td>None</td>\n      <td>https://myanimelist.net/anime/44/Rurouni_Kensh...</td>\n      <td>None</td>\n      <td>None</td>\n      <td>None</td>\n      <td>None</td>\n      <td>...</td>\n      <td>None</td>\n      <td>None</td>\n      <td>None</td>\n      <td>None</td>\n      <td>None</td>\n      <td>None</td>\n      <td>None</td>\n      <td>None</td>\n      <td>None</td>\n      <td>Ranked #39</td>\n    </tr>\n    <tr>\n      <th>39</th>\n      <td>Shigatsu wa Kimi no Uso</td>\n      <td>None</td>\n      <td>None</td>\n      <td>None</td>\n      <td>None</td>\n      <td>https://myanimelist.net/anime/23273/Shigatsu_w...</td>\n      <td>None</td>\n      <td>None</td>\n      <td>None</td>\n      <td>None</td>\n      <td>...</td>\n      <td>None</td>\n      <td>None</td>\n      <td>None</td>\n      <td>None</td>\n      <td>None</td>\n      <td>None</td>\n      <td>None</td>\n      <td>None</td>\n      <td>None</td>\n      <td>Ranked #40</td>\n    </tr>\n    <tr>\n      <th>40</th>\n      <td>Violet Evergarden Movie</td>\n      <td>None</td>\n      <td>None</td>\n      <td>None</td>\n      <td>None</td>\n      <td>https://myanimelist.net/anime/37987/Violet_Eve...</td>\n      <td>None</td>\n      <td>None</td>\n      <td>None</td>\n      <td>None</td>\n      <td>...</td>\n      <td>None</td>\n      <td>None</td>\n      <td>None</td>\n      <td>None</td>\n      <td>None</td>\n      <td>None</td>\n      <td>None</td>\n      <td>None</td>\n      <td>None</td>\n      <td>Ranked #41</td>\n    </tr>\n    <tr>\n      <th>41</th>\n      <td>Vinland Saga</td>\n      <td>None</td>\n      <td>None</td>\n      <td>None</td>\n      <td>None</td>\n      <td>https://myanimelist.net/anime/37521/Vinland_Saga</td>\n      <td>None</td>\n      <td>None</td>\n      <td>None</td>\n      <td>None</td>\n      <td>...</td>\n      <td>None</td>\n      <td>None</td>\n      <td>None</td>\n      <td>None</td>\n      <td>None</td>\n      <td>None</td>\n      <td>None</td>\n      <td>None</td>\n      <td>None</td>\n      <td>Ranked #42</td>\n    </tr>\n    <tr>\n      <th>42</th>\n      <td>Code Geass: Hangyaku no Lelouch</td>\n      <td>None</td>\n      <td>None</td>\n      <td>None</td>\n      <td>None</td>\n      <td>https://myanimelist.net/anime/1575/Code_Geass_...</td>\n      <td>None</td>\n      <td>None</td>\n      <td>None</td>\n      <td>None</td>\n      <td>...</td>\n      <td>None</td>\n      <td>None</td>\n      <td>None</td>\n      <td>None</td>\n      <td>None</td>\n      <td>None</td>\n      <td>None</td>\n      <td>None</td>\n      <td>None</td>\n      <td>Ranked #43</td>\n    </tr>\n    <tr>\n      <th>43</th>\n      <td>Mononoke Hime</td>\n      <td>None</td>\n      <td>None</td>\n      <td>None</td>\n      <td>None</td>\n      <td>https://myanimelist.net/anime/164/Mononoke_Hime</td>\n      <td>None</td>\n      <td>None</td>\n      <td>None</td>\n      <td>None</td>\n      <td>...</td>\n      <td>None</td>\n      <td>None</td>\n      <td>None</td>\n      <td>None</td>\n      <td>None</td>\n      <td>None</td>\n      <td>None</td>\n      <td>None</td>\n      <td>None</td>\n      <td>Ranked #44</td>\n    </tr>\n    <tr>\n      <th>44</th>\n      <td>Great Teacher Onizuka</td>\n      <td>None</td>\n      <td>None</td>\n      <td>None</td>\n      <td>None</td>\n      <td>https://myanimelist.net/anime/245/Great_Teache...</td>\n      <td>None</td>\n      <td>None</td>\n      <td>None</td>\n      <td>None</td>\n      <td>...</td>\n      <td>None</td>\n      <td>None</td>\n      <td>None</td>\n      <td>None</td>\n      <td>None</td>\n      <td>None</td>\n      <td>None</td>\n      <td>None</td>\n      <td>None</td>\n      <td>Ranked #45</td>\n    </tr>\n    <tr>\n      <th>45</th>\n      <td>Haikyuu!! Second Season</td>\n      <td>None</td>\n      <td>None</td>\n      <td>None</td>\n      <td>None</td>\n      <td>https://myanimelist.net/anime/28891/Haikyuu_Se...</td>\n      <td>None</td>\n      <td>None</td>\n      <td>None</td>\n      <td>None</td>\n      <td>...</td>\n      <td>None</td>\n      <td>None</td>\n      <td>None</td>\n      <td>None</td>\n      <td>None</td>\n      <td>None</td>\n      <td>None</td>\n      <td>None</td>\n      <td>None</td>\n      <td>Ranked #46</td>\n    </tr>\n    <tr>\n      <th>46</th>\n      <td>Kaguya-sama wa Kokurasetai?: Tensai-tachi no R...</td>\n      <td>None</td>\n      <td>None</td>\n      <td>None</td>\n      <td>None</td>\n      <td>https://myanimelist.net/anime/40591/Kaguya-sam...</td>\n      <td>None</td>\n      <td>None</td>\n      <td>None</td>\n      <td>None</td>\n      <td>...</td>\n      <td>None</td>\n      <td>None</td>\n      <td>None</td>\n      <td>None</td>\n      <td>None</td>\n      <td>None</td>\n      <td>None</td>\n      <td>None</td>\n      <td>None</td>\n      <td>Ranked #47</td>\n    </tr>\n    <tr>\n      <th>47</th>\n      <td>Mushishi</td>\n      <td>None</td>\n      <td>None</td>\n      <td>None</td>\n      <td>None</td>\n      <td>https://myanimelist.net/anime/457/Mushishi</td>\n      <td>None</td>\n      <td>None</td>\n      <td>None</td>\n      <td>None</td>\n      <td>...</td>\n      <td>None</td>\n      <td>None</td>\n      <td>None</td>\n      <td>None</td>\n      <td>None</td>\n      <td>None</td>\n      <td>None</td>\n      <td>None</td>\n      <td>None</td>\n      <td>Ranked #48</td>\n    </tr>\n    <tr>\n      <th>48</th>\n      <td>Fumetsu no Anata e</td>\n      <td>None</td>\n      <td>None</td>\n      <td>None</td>\n      <td>None</td>\n      <td>https://myanimelist.net/anime/41025/Fumetsu_no...</td>\n      <td>None</td>\n      <td>None</td>\n      <td>None</td>\n      <td>None</td>\n      <td>...</td>\n      <td>None</td>\n      <td>None</td>\n      <td>None</td>\n      <td>None</td>\n      <td>None</td>\n      <td>None</td>\n      <td>None</td>\n      <td>None</td>\n      <td>None</td>\n      <td>Ranked #49</td>\n    </tr>\n    <tr>\n      <th>49</th>\n      <td>Seishun Buta Yarou wa Yumemiru Shoujo no Yume ...</td>\n      <td>None</td>\n      <td>None</td>\n      <td>None</td>\n      <td>None</td>\n      <td>https://myanimelist.net/anime/38329/Seishun_Bu...</td>\n      <td>None</td>\n      <td>None</td>\n      <td>None</td>\n      <td>None</td>\n      <td>...</td>\n      <td>None</td>\n      <td>None</td>\n      <td>None</td>\n      <td>None</td>\n      <td>None</td>\n      <td>None</td>\n      <td>None</td>\n      <td>None</td>\n      <td>None</td>\n      <td>Ranked #50</td>\n    </tr>\n  </tbody>\n</table>\n<p>50 rows × 35 columns</p>\n</div>"
     },
     "execution_count": 6,
     "metadata": {},
     "output_type": "execute_result"
    }
   ],
   "source": [
    "first = True\n",
    "urls = []\n",
    "ProgressBar.max_value = 50\n",
    "ProgressBar.counter = True\n",
    "ProgressBar.string = \"[########################################] @@@ page\"\n",
    "for row in tree.xpath('/html/body/div[1]/div[2]/div[3]/div[2]/div[4]/table/tr'):\n",
    "    if first:\n",
    "        first = False\n",
    "    else:\n",
    "        urls.append(row.xpath('td[2]/div/div[2]/h3/a')[0].get(\"href\"))\n",
    "pool = ThreadPool(50)\n",
    "results = pool.map(anime_dic, urls)\n",
    "for i in results:\n",
    "    df = df.append(i, ignore_index=True)\n",
    "# print(tree.xpath('/html/body/div[1]/div[2]/div[3]/div[2]/div[4]/table/tr/td'))\n",
    "df"
   ],
   "metadata": {
    "collapsed": false,
    "pycharm": {
     "name": "#%%\n"
    }
   }
  },
  {
   "cell_type": "code",
   "execution_count": 6,
   "outputs": [],
   "source": [],
   "metadata": {
    "collapsed": false,
    "pycharm": {
     "name": "#%%\n"
    }
   }
  }
 ],
 "metadata": {
  "kernelspec": {
   "display_name": "Python 3",
   "language": "python",
   "name": "python3"
  },
  "language_info": {
   "codemirror_mode": {
    "name": "ipython",
    "version": 2
   },
   "file_extension": ".py",
   "mimetype": "text/x-python",
   "name": "python",
   "nbconvert_exporter": "python",
   "pygments_lexer": "ipython2",
   "version": "2.7.6"
  }
 },
 "nbformat": 4,
 "nbformat_minor": 0
}