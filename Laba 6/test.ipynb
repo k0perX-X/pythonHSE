{
 "cells": [
  {
   "cell_type": "code",
   "execution_count": 31,
   "metadata": {
    "collapsed": true
   },
   "outputs": [],
   "source": [
    "import pandas as pd\n",
    "import matplotlib.pyplot as plt\n",
    "from matplotlib.figure import Figure"
   ]
  },
  {
   "cell_type": "code",
   "execution_count": 24,
   "outputs": [],
   "source": [
    "original_df = pd.read_csv('latest.csv', index_col=0).drop_duplicates()\n",
    "col = list(original_df.columns)\n",
    "col.remove('Link')\n",
    "col.append('Link')\n",
    "original_df = original_df[col]\n",
    "find_df = pd.read_csv('latest.csv', index_col=0, dtype=str).drop_duplicates()\n",
    "for i in find_df.columns:\n",
    "    find_df[i] = find_df[i].str.lower()"
   ],
   "metadata": {
    "collapsed": false,
    "pycharm": {
     "name": "#%%\n"
    }
   }
  },
  {
   "cell_type": "code",
   "execution_count": 25,
   "outputs": [
    {
     "data": {
      "text/plain": "                                     Name  Score rank  Popularity rank  Score  \\\n0        Fullmetal Alchemist: Brotherhood         1.0                3   9.17   \n1      Shingeki no Kyojin Season 3 Part 2         2.0               45   9.11   \n2                             Steins;Gate         3.0               10   9.10   \n3                                Gintama°         4.0              336   9.09   \n4                  Hunter x Hunter (2011)         5.0               11   9.07   \n...                                   ...         ...              ...    ...   \n17866   Kazoku: Haha to Shimai no Kyousei         NaN            11872    NaN   \n17867                    Konbini Shoujo Z         NaN            13044    NaN   \n17868            Mako-chan Kaihatsu Nikki         NaN            13204    NaN   \n17869    Maou Evelogia ni Mi wo Sasage yo         NaN            10148    NaN   \n17870                             Meijyou         NaN            12797    NaN   \n\n       Episodes     Type     Premiered                      English name  \\\n0          64.0       TV  Spring 2009   Fullmetal Alchemist: Brotherhood   \n1          10.0       TV  Spring 2019    Attack on Titan Season 3 Part 2   \n2          24.0       TV  Spring 2011                        Steins;Gate   \n3          51.0       TV  Spring 2015                   Gintama Season 4   \n4         148.0       TV    Fall 2011                    Hunter x Hunter   \n...         ...      ...           ...                               ...   \n17866       NaN      OVA           NaN                               NaN   \n17867       NaN      OVA           NaN                               NaN   \n17868       2.0      OVA           NaN                               NaN   \n17869       NaN  Unknown           NaN                               NaN   \n17870       NaN      ONA           NaN                               NaN   \n\n                    Japanese name  \\\n0      鋼の錬金術師 FULLMETAL ALCHEMIST   \n1            進撃の巨人 Season3 Part.2   \n2                     STEINS;GATE   \n3                             銀魂°   \n4        HUNTER×HUNTER（ハンター×ハンター）   \n...                           ...   \n17866                家属 ~母と姉妹の嬌声~   \n17867                     コンビニ少女Z   \n17868                   まこちゃん開発日記   \n17869               魔王イブロギアに身を捧げよ   \n17870                          迷情   \n\n                                                Synonyms  ... Members score 9  \\\n0      Hagane no Renkinjutsushi: Fullmetal Alchemist,...  ...        435910.0   \n1                                                    NaN  ...        302094.0   \n2                                                    NaN  ...        297881.0   \n3                                        Gintama' (2015)  ...         41129.0   \n4                                             HxH (2011)  ...        349522.0   \n...                                                  ...  ...             ...   \n17866                                                NaN  ...             NaN   \n17867                                                NaN  ...             NaN   \n17868                                                NaN  ...             NaN   \n17869                                                NaN  ...             NaN   \n17870                                                NaN  ...             2.0   \n\n      Members score 8 Members score 7 Members score 6 Members score 5  \\\n0            217701.0         77068.0         22249.0         10285.0   \n1            139059.0         42323.0         10533.0          3689.0   \n2            152722.0         62782.0         23231.0         12093.0   \n3             23333.0         11370.0          4257.0          2499.0   \n4            194297.0         76366.0         21628.0          9245.0   \n...               ...             ...             ...             ...   \n17866             NaN             NaN             NaN             NaN   \n17867             NaN             NaN             NaN             NaN   \n17868             NaN             NaN             NaN             NaN   \n17869             NaN             NaN             NaN             NaN   \n17870             8.0            14.0            24.0            14.0   \n\n      Members score 4 Members score 3 Members score 2 Members score 1  \\\n0              3601.0          1707.0          2292.0         18197.0   \n1              1411.0           703.0           530.0          6059.0   \n2              5571.0          2565.0          1945.0          5912.0   \n3              1015.0           687.0          1162.0          4788.0   \n4              3334.0          1443.0          1185.0          4985.0   \n...               ...             ...             ...             ...   \n17866             NaN             NaN             NaN             NaN   \n17867             NaN             NaN             NaN             NaN   \n17868             NaN             NaN             NaN             NaN   \n17869             NaN             NaN             NaN             NaN   \n17870             6.0             4.0             9.0             6.0   \n\n                                                    Link  \n0      https://myanimelist.net/anime/5114/Fullmetal_A...  \n1      https://myanimelist.net/anime/38524/Shingeki_n...  \n2         https://myanimelist.net/anime/9253/Steins_Gate  \n3           https://myanimelist.net/anime/28977/Gintama°  \n4      https://myanimelist.net/anime/11061/Hunter_x_H...  \n...                                                  ...  \n17866  https://myanimelist.net/anime/48422/Kazoku__Ha...  \n17867  https://myanimelist.net/anime/42383/Konbini_Sh...  \n17868  https://myanimelist.net/anime/48698/Mako-chan_...  \n17869  https://myanimelist.net/anime/47792/Maou_Evelo...  \n17870        https://myanimelist.net/anime/48392/Meijyou  \n\n[17089 rows x 38 columns]",
      "text/html": "<div>\n<style scoped>\n    .dataframe tbody tr th:only-of-type {\n        vertical-align: middle;\n    }\n\n    .dataframe tbody tr th {\n        vertical-align: top;\n    }\n\n    .dataframe thead th {\n        text-align: right;\n    }\n</style>\n<table border=\"1\" class=\"dataframe\">\n  <thead>\n    <tr style=\"text-align: right;\">\n      <th></th>\n      <th>Name</th>\n      <th>Score rank</th>\n      <th>Popularity rank</th>\n      <th>Score</th>\n      <th>Episodes</th>\n      <th>Type</th>\n      <th>Premiered</th>\n      <th>English name</th>\n      <th>Japanese name</th>\n      <th>Synonyms</th>\n      <th>...</th>\n      <th>Members score 9</th>\n      <th>Members score 8</th>\n      <th>Members score 7</th>\n      <th>Members score 6</th>\n      <th>Members score 5</th>\n      <th>Members score 4</th>\n      <th>Members score 3</th>\n      <th>Members score 2</th>\n      <th>Members score 1</th>\n      <th>Link</th>\n    </tr>\n  </thead>\n  <tbody>\n    <tr>\n      <th>0</th>\n      <td>Fullmetal Alchemist: Brotherhood</td>\n      <td>1.0</td>\n      <td>3</td>\n      <td>9.17</td>\n      <td>64.0</td>\n      <td>TV</td>\n      <td>Spring 2009</td>\n      <td>Fullmetal Alchemist: Brotherhood</td>\n      <td>鋼の錬金術師 FULLMETAL ALCHEMIST</td>\n      <td>Hagane no Renkinjutsushi: Fullmetal Alchemist,...</td>\n      <td>...</td>\n      <td>435910.0</td>\n      <td>217701.0</td>\n      <td>77068.0</td>\n      <td>22249.0</td>\n      <td>10285.0</td>\n      <td>3601.0</td>\n      <td>1707.0</td>\n      <td>2292.0</td>\n      <td>18197.0</td>\n      <td>https://myanimelist.net/anime/5114/Fullmetal_A...</td>\n    </tr>\n    <tr>\n      <th>1</th>\n      <td>Shingeki no Kyojin Season 3 Part 2</td>\n      <td>2.0</td>\n      <td>45</td>\n      <td>9.11</td>\n      <td>10.0</td>\n      <td>TV</td>\n      <td>Spring 2019</td>\n      <td>Attack on Titan Season 3 Part 2</td>\n      <td>進撃の巨人 Season3 Part.2</td>\n      <td>NaN</td>\n      <td>...</td>\n      <td>302094.0</td>\n      <td>139059.0</td>\n      <td>42323.0</td>\n      <td>10533.0</td>\n      <td>3689.0</td>\n      <td>1411.0</td>\n      <td>703.0</td>\n      <td>530.0</td>\n      <td>6059.0</td>\n      <td>https://myanimelist.net/anime/38524/Shingeki_n...</td>\n    </tr>\n    <tr>\n      <th>2</th>\n      <td>Steins;Gate</td>\n      <td>3.0</td>\n      <td>10</td>\n      <td>9.10</td>\n      <td>24.0</td>\n      <td>TV</td>\n      <td>Spring 2011</td>\n      <td>Steins;Gate</td>\n      <td>STEINS;GATE</td>\n      <td>NaN</td>\n      <td>...</td>\n      <td>297881.0</td>\n      <td>152722.0</td>\n      <td>62782.0</td>\n      <td>23231.0</td>\n      <td>12093.0</td>\n      <td>5571.0</td>\n      <td>2565.0</td>\n      <td>1945.0</td>\n      <td>5912.0</td>\n      <td>https://myanimelist.net/anime/9253/Steins_Gate</td>\n    </tr>\n    <tr>\n      <th>3</th>\n      <td>Gintama°</td>\n      <td>4.0</td>\n      <td>336</td>\n      <td>9.09</td>\n      <td>51.0</td>\n      <td>TV</td>\n      <td>Spring 2015</td>\n      <td>Gintama Season 4</td>\n      <td>銀魂°</td>\n      <td>Gintama' (2015)</td>\n      <td>...</td>\n      <td>41129.0</td>\n      <td>23333.0</td>\n      <td>11370.0</td>\n      <td>4257.0</td>\n      <td>2499.0</td>\n      <td>1015.0</td>\n      <td>687.0</td>\n      <td>1162.0</td>\n      <td>4788.0</td>\n      <td>https://myanimelist.net/anime/28977/Gintama°</td>\n    </tr>\n    <tr>\n      <th>4</th>\n      <td>Hunter x Hunter (2011)</td>\n      <td>5.0</td>\n      <td>11</td>\n      <td>9.07</td>\n      <td>148.0</td>\n      <td>TV</td>\n      <td>Fall 2011</td>\n      <td>Hunter x Hunter</td>\n      <td>HUNTER×HUNTER（ハンター×ハンター）</td>\n      <td>HxH (2011)</td>\n      <td>...</td>\n      <td>349522.0</td>\n      <td>194297.0</td>\n      <td>76366.0</td>\n      <td>21628.0</td>\n      <td>9245.0</td>\n      <td>3334.0</td>\n      <td>1443.0</td>\n      <td>1185.0</td>\n      <td>4985.0</td>\n      <td>https://myanimelist.net/anime/11061/Hunter_x_H...</td>\n    </tr>\n    <tr>\n      <th>...</th>\n      <td>...</td>\n      <td>...</td>\n      <td>...</td>\n      <td>...</td>\n      <td>...</td>\n      <td>...</td>\n      <td>...</td>\n      <td>...</td>\n      <td>...</td>\n      <td>...</td>\n      <td>...</td>\n      <td>...</td>\n      <td>...</td>\n      <td>...</td>\n      <td>...</td>\n      <td>...</td>\n      <td>...</td>\n      <td>...</td>\n      <td>...</td>\n      <td>...</td>\n      <td>...</td>\n    </tr>\n    <tr>\n      <th>17866</th>\n      <td>Kazoku: Haha to Shimai no Kyousei</td>\n      <td>NaN</td>\n      <td>11872</td>\n      <td>NaN</td>\n      <td>NaN</td>\n      <td>OVA</td>\n      <td>NaN</td>\n      <td>NaN</td>\n      <td>家属 ~母と姉妹の嬌声~</td>\n      <td>NaN</td>\n      <td>...</td>\n      <td>NaN</td>\n      <td>NaN</td>\n      <td>NaN</td>\n      <td>NaN</td>\n      <td>NaN</td>\n      <td>NaN</td>\n      <td>NaN</td>\n      <td>NaN</td>\n      <td>NaN</td>\n      <td>https://myanimelist.net/anime/48422/Kazoku__Ha...</td>\n    </tr>\n    <tr>\n      <th>17867</th>\n      <td>Konbini Shoujo Z</td>\n      <td>NaN</td>\n      <td>13044</td>\n      <td>NaN</td>\n      <td>NaN</td>\n      <td>OVA</td>\n      <td>NaN</td>\n      <td>NaN</td>\n      <td>コンビニ少女Z</td>\n      <td>NaN</td>\n      <td>...</td>\n      <td>NaN</td>\n      <td>NaN</td>\n      <td>NaN</td>\n      <td>NaN</td>\n      <td>NaN</td>\n      <td>NaN</td>\n      <td>NaN</td>\n      <td>NaN</td>\n      <td>NaN</td>\n      <td>https://myanimelist.net/anime/42383/Konbini_Sh...</td>\n    </tr>\n    <tr>\n      <th>17868</th>\n      <td>Mako-chan Kaihatsu Nikki</td>\n      <td>NaN</td>\n      <td>13204</td>\n      <td>NaN</td>\n      <td>2.0</td>\n      <td>OVA</td>\n      <td>NaN</td>\n      <td>NaN</td>\n      <td>まこちゃん開発日記</td>\n      <td>NaN</td>\n      <td>...</td>\n      <td>NaN</td>\n      <td>NaN</td>\n      <td>NaN</td>\n      <td>NaN</td>\n      <td>NaN</td>\n      <td>NaN</td>\n      <td>NaN</td>\n      <td>NaN</td>\n      <td>NaN</td>\n      <td>https://myanimelist.net/anime/48698/Mako-chan_...</td>\n    </tr>\n    <tr>\n      <th>17869</th>\n      <td>Maou Evelogia ni Mi wo Sasage yo</td>\n      <td>NaN</td>\n      <td>10148</td>\n      <td>NaN</td>\n      <td>NaN</td>\n      <td>Unknown</td>\n      <td>NaN</td>\n      <td>NaN</td>\n      <td>魔王イブロギアに身を捧げよ</td>\n      <td>NaN</td>\n      <td>...</td>\n      <td>NaN</td>\n      <td>NaN</td>\n      <td>NaN</td>\n      <td>NaN</td>\n      <td>NaN</td>\n      <td>NaN</td>\n      <td>NaN</td>\n      <td>NaN</td>\n      <td>NaN</td>\n      <td>https://myanimelist.net/anime/47792/Maou_Evelo...</td>\n    </tr>\n    <tr>\n      <th>17870</th>\n      <td>Meijyou</td>\n      <td>NaN</td>\n      <td>12797</td>\n      <td>NaN</td>\n      <td>NaN</td>\n      <td>ONA</td>\n      <td>NaN</td>\n      <td>NaN</td>\n      <td>迷情</td>\n      <td>NaN</td>\n      <td>...</td>\n      <td>2.0</td>\n      <td>8.0</td>\n      <td>14.0</td>\n      <td>24.0</td>\n      <td>14.0</td>\n      <td>6.0</td>\n      <td>4.0</td>\n      <td>9.0</td>\n      <td>6.0</td>\n      <td>https://myanimelist.net/anime/48392/Meijyou</td>\n    </tr>\n  </tbody>\n</table>\n<p>17089 rows × 38 columns</p>\n</div>"
     },
     "execution_count": 25,
     "metadata": {},
     "output_type": "execute_result"
    }
   ],
   "source": [
    "original_df"
   ],
   "metadata": {
    "collapsed": false,
    "pycharm": {
     "name": "#%%\n"
    }
   }
  },
  {
   "cell_type": "code",
   "execution_count": 26,
   "outputs": [],
   "source": [
    "percent_df = original_df.copy()[['Members score 10', 'Members score 9', 'Members score 8', 'Members score 7',\n",
    "                                'Members score 6', 'Members score 5', 'Members score 4', 'Members score 3',\n",
    "                                'Members score 2', 'Members score 1']]\n",
    "\n"
   ],
   "metadata": {
    "collapsed": false,
    "pycharm": {
     "name": "#%%\n"
    }
   }
  },
  {
   "cell_type": "code",
   "execution_count": 27,
   "outputs": [
    {
     "data": {
      "text/plain": "       Members score 10  Members score 9  Members score 8  Members score 7  \\\n0              766948.0         435910.0         217701.0          77068.0   \n1              419221.0         302094.0         139059.0          42323.0   \n2              499900.0         297881.0         152722.0          62782.0   \n3               84738.0          41129.0          23333.0          11370.0   \n4              508513.0         349522.0         194297.0          76366.0   \n...                 ...              ...              ...              ...   \n17866               NaN              NaN              NaN              NaN   \n17867               NaN              NaN              NaN              NaN   \n17868               NaN              NaN              NaN              NaN   \n17869               NaN              NaN              NaN              NaN   \n17870               8.0              2.0              8.0             14.0   \n\n       Members score 6  Members score 5  Members score 4  Members score 3  \\\n0              22249.0          10285.0           3601.0           1707.0   \n1              10533.0           3689.0           1411.0            703.0   \n2              23231.0          12093.0           5571.0           2565.0   \n3               4257.0           2499.0           1015.0            687.0   \n4              21628.0           9245.0           3334.0           1443.0   \n...                ...              ...              ...              ...   \n17866              NaN              NaN              NaN              NaN   \n17867              NaN              NaN              NaN              NaN   \n17868              NaN              NaN              NaN              NaN   \n17869              NaN              NaN              NaN              NaN   \n17870             24.0             14.0              6.0              4.0   \n\n       Members score 2  Members score 1  \n0               2292.0          18197.0  \n1                530.0           6059.0  \n2               1945.0           5912.0  \n3               1162.0           4788.0  \n4               1185.0           4985.0  \n...                ...              ...  \n17866              NaN              NaN  \n17867              NaN              NaN  \n17868              NaN              NaN  \n17869              NaN              NaN  \n17870              9.0              6.0  \n\n[17089 rows x 10 columns]",
      "text/html": "<div>\n<style scoped>\n    .dataframe tbody tr th:only-of-type {\n        vertical-align: middle;\n    }\n\n    .dataframe tbody tr th {\n        vertical-align: top;\n    }\n\n    .dataframe thead th {\n        text-align: right;\n    }\n</style>\n<table border=\"1\" class=\"dataframe\">\n  <thead>\n    <tr style=\"text-align: right;\">\n      <th></th>\n      <th>Members score 10</th>\n      <th>Members score 9</th>\n      <th>Members score 8</th>\n      <th>Members score 7</th>\n      <th>Members score 6</th>\n      <th>Members score 5</th>\n      <th>Members score 4</th>\n      <th>Members score 3</th>\n      <th>Members score 2</th>\n      <th>Members score 1</th>\n    </tr>\n  </thead>\n  <tbody>\n    <tr>\n      <th>0</th>\n      <td>766948.0</td>\n      <td>435910.0</td>\n      <td>217701.0</td>\n      <td>77068.0</td>\n      <td>22249.0</td>\n      <td>10285.0</td>\n      <td>3601.0</td>\n      <td>1707.0</td>\n      <td>2292.0</td>\n      <td>18197.0</td>\n    </tr>\n    <tr>\n      <th>1</th>\n      <td>419221.0</td>\n      <td>302094.0</td>\n      <td>139059.0</td>\n      <td>42323.0</td>\n      <td>10533.0</td>\n      <td>3689.0</td>\n      <td>1411.0</td>\n      <td>703.0</td>\n      <td>530.0</td>\n      <td>6059.0</td>\n    </tr>\n    <tr>\n      <th>2</th>\n      <td>499900.0</td>\n      <td>297881.0</td>\n      <td>152722.0</td>\n      <td>62782.0</td>\n      <td>23231.0</td>\n      <td>12093.0</td>\n      <td>5571.0</td>\n      <td>2565.0</td>\n      <td>1945.0</td>\n      <td>5912.0</td>\n    </tr>\n    <tr>\n      <th>3</th>\n      <td>84738.0</td>\n      <td>41129.0</td>\n      <td>23333.0</td>\n      <td>11370.0</td>\n      <td>4257.0</td>\n      <td>2499.0</td>\n      <td>1015.0</td>\n      <td>687.0</td>\n      <td>1162.0</td>\n      <td>4788.0</td>\n    </tr>\n    <tr>\n      <th>4</th>\n      <td>508513.0</td>\n      <td>349522.0</td>\n      <td>194297.0</td>\n      <td>76366.0</td>\n      <td>21628.0</td>\n      <td>9245.0</td>\n      <td>3334.0</td>\n      <td>1443.0</td>\n      <td>1185.0</td>\n      <td>4985.0</td>\n    </tr>\n    <tr>\n      <th>...</th>\n      <td>...</td>\n      <td>...</td>\n      <td>...</td>\n      <td>...</td>\n      <td>...</td>\n      <td>...</td>\n      <td>...</td>\n      <td>...</td>\n      <td>...</td>\n      <td>...</td>\n    </tr>\n    <tr>\n      <th>17866</th>\n      <td>NaN</td>\n      <td>NaN</td>\n      <td>NaN</td>\n      <td>NaN</td>\n      <td>NaN</td>\n      <td>NaN</td>\n      <td>NaN</td>\n      <td>NaN</td>\n      <td>NaN</td>\n      <td>NaN</td>\n    </tr>\n    <tr>\n      <th>17867</th>\n      <td>NaN</td>\n      <td>NaN</td>\n      <td>NaN</td>\n      <td>NaN</td>\n      <td>NaN</td>\n      <td>NaN</td>\n      <td>NaN</td>\n      <td>NaN</td>\n      <td>NaN</td>\n      <td>NaN</td>\n    </tr>\n    <tr>\n      <th>17868</th>\n      <td>NaN</td>\n      <td>NaN</td>\n      <td>NaN</td>\n      <td>NaN</td>\n      <td>NaN</td>\n      <td>NaN</td>\n      <td>NaN</td>\n      <td>NaN</td>\n      <td>NaN</td>\n      <td>NaN</td>\n    </tr>\n    <tr>\n      <th>17869</th>\n      <td>NaN</td>\n      <td>NaN</td>\n      <td>NaN</td>\n      <td>NaN</td>\n      <td>NaN</td>\n      <td>NaN</td>\n      <td>NaN</td>\n      <td>NaN</td>\n      <td>NaN</td>\n      <td>NaN</td>\n    </tr>\n    <tr>\n      <th>17870</th>\n      <td>8.0</td>\n      <td>2.0</td>\n      <td>8.0</td>\n      <td>14.0</td>\n      <td>24.0</td>\n      <td>14.0</td>\n      <td>6.0</td>\n      <td>4.0</td>\n      <td>9.0</td>\n      <td>6.0</td>\n    </tr>\n  </tbody>\n</table>\n<p>17089 rows × 10 columns</p>\n</div>"
     },
     "execution_count": 27,
     "metadata": {},
     "output_type": "execute_result"
    }
   ],
   "source": [
    "percent_df"
   ],
   "metadata": {
    "collapsed": false,
    "pycharm": {
     "name": "#%%\n"
    }
   }
  },
  {
   "cell_type": "code",
   "execution_count": 28,
   "outputs": [
    {
     "data": {
      "text/plain": "'nan'"
     },
     "execution_count": 28,
     "metadata": {},
     "output_type": "execute_result"
    }
   ],
   "source": [
    "path = '1nan.png'\n",
    "path[1:-4]"
   ],
   "metadata": {
    "collapsed": false,
    "pycharm": {
     "name": "#%%\n"
    }
   }
  },
  {
   "cell_type": "code",
   "execution_count": 29,
   "outputs": [],
   "source": [
    "def make_df(find):\n",
    "    return original_df.loc[find_df['Name'].str.contains(find) | find_df['Score rank'].isin([find]) |\n",
    "                           find_df['Popularity rank'].isin([find]) | find_df['Score'].isin([find]) |\n",
    "                           find_df['Episodes'].isin([find]) | find_df['Type'].str.contains(find) |\n",
    "                           find_df['Premiered'].str.contains(find) | find_df['English name'].str.contains(find) |\n",
    "                           find_df['Japanese name'].str.contains(find) | find_df['Synonyms'].str.contains(find) |\n",
    "                           find_df['Status'].str.contains(find) | find_df['Aired'].str.contains(find) |\n",
    "                           find_df['Broadcast'].str.contains(find) | find_df['Producers'].str.contains(find) |\n",
    "                           find_df['Licensors'].str.contains(find) | find_df['Studios'].str.contains(find) |\n",
    "                           find_df['Source'].str.contains(find) | find_df['Genres'].str.contains(find) |\n",
    "                           find_df['Duration'].str.contains(find) | find_df['Rating'].str.contains(find)]"
   ],
   "metadata": {
    "collapsed": false,
    "pycharm": {
     "name": "#%%\n"
    }
   }
  },
  {
   "cell_type": "code",
   "execution_count": 38,
   "outputs": [
    {
     "name": "stderr",
     "output_type": "stream",
     "text": [
      "<ipython-input-38-cdf1cbf966ec>:24: UserWarning: Matplotlib is currently using module://ipykernel.pylab.backend_inline, which is a non-GUI backend, so cannot show the figure.\n",
      "  fig.show()\n"
     ]
    },
    {
     "data": {
      "text/plain": "<Figure size 432x288 with 1 Axes>",
      "image/png": "[encoded data removed]"
     },
     "metadata": {
      "needs_background": "dark"
     },
     "output_type": "display_data"
    }
   ],
   "source": [
    "df = make_df(path[1:-4])\n",
    "params = {\"ytick.color\": \"w\",\n",
    "          \"xtick.color\": \"w\",\n",
    "          \"axes.labelcolor\": \"w\",\n",
    "          \"axes.edgecolor\": \"w\"}\n",
    "# plt.rcParams.update(params)\n",
    "fig, ax = plt.subplots()\n",
    "# df1 = pd.DataFrame({'Score': ['10', '9', '8', '7', '6', '5', '4', '3', '2', '1'],\n",
    "#                     'val': [df['Members score 10'].sum(), df['Members score 9'].sum(),\n",
    "#                             df['Members score 8'].sum(), df['Members score 7'].sum(),\n",
    "#                             df['Members score 6'].sum(), df['Members score 5'].sum(),\n",
    "#                             df['Members score 4'].sum(), df['Members score 3'].sum(),\n",
    "#                             df['Members score 2'].sum(), df['Members score 1'].sum(), ]})\n",
    "ax.bar(['10', '9', '8', '7', '6', '5', '4', '3', '2', '1'],\n",
    "    [df['Members score 10'].sum(), df['Members score 9'].sum(),\n",
    "                            df['Members score 8'].sum(), df['Members score 7'].sum(),\n",
    "                            df['Members score 6'].sum(), df['Members score 5'].sum(),\n",
    "                            df['Members score 4'].sum(), df['Members score 3'].sum(),\n",
    "                            df['Members score 2'].sum(), df['Members score 1'].sum(), ])\n",
    "# ax = df1.plot.bar(x='Score', y='val', rot=0)\n",
    "ax.set_title(f'По количеству оценок', color='w')\n",
    "# plt.savefig(f'static/pictures/{path}', transparent=True)\n",
    "# fig.savefig(f'static/pictures/{path}', transparent=True)\n",
    "fig.show()"
   ],
   "metadata": {
    "collapsed": false,
    "pycharm": {
     "name": "#%%\n"
    }
   }
  },
  {
   "cell_type": "code",
   "execution_count": null,
   "outputs": [],
   "source": [],
   "metadata": {
    "collapsed": false,
    "pycharm": {
     "name": "#%%\n"
    }
   }
  }
 ],
 "metadata": {
  "kernelspec": {
   "display_name": "Python 3",
   "language": "python",
   "name": "python3"
  },
  "language_info": {
   "codemirror_mode": {
    "name": "ipython",
    "version": 2
   },
   "file_extension": ".py",
   "mimetype": "text/x-python",
   "name": "python",
   "nbconvert_exporter": "python",
   "pygments_lexer": "ipython2",
   "version": "2.7.6"
  }
 },
 "nbformat": 4,
 "nbformat_minor": 0
}