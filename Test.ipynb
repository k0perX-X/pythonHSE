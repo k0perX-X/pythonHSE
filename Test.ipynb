{
 "cells": [
  {
   "cell_type": "code",
   "execution_count": null,
   "outputs": [],
   "source": [
    "import sys\n",
    "\n",
    "def progress(count, total, suffix=''):\n",
    "    bar_len = 40\n",
    "    filled_len = int(round(bar_len * count / float(total)))\n",
    "\n",
    "    percents = round(100.0 * count / float(total), 1)\n",
    "    bar = '=' * filled_len + '-' * (bar_len - filled_len)\n",
    "\n",
    "    sys.stdout.write('[%s] %s%s ...%s\\r' % (bar, percents, '%', suffix))\n",
    "    sys.stdout.flush()\n",
    "\n",
    "\n",
    "def test():\n",
    "    for i in range(10000):\n",
    "        progress(i, 10000, 'обработано')\n",
    "\n",
    "\n",
    "test()"
   ],
   "metadata": {
    "collapsed": false,
    "pycharm": {
     "name": "#%%\n"
    }
   }
  },
  {
   "cell_type": "code",
   "execution_count": null,
   "outputs": [],
   "source": [
    "from colorama import Fore, Back, Style\n",
    "sys.stdout.write(Fore.RED + '\\r')\n",
    "sys.stdout.flush()\n",
    "#sys.stdout.write(\"132\")\n",
    "\n"
   ],
   "metadata": {
    "collapsed": false,
    "pycharm": {
     "name": "#%%\n"
    }
   }
  },
  {
   "cell_type": "code",
   "execution_count": null,
   "outputs": [],
   "source": [
    "chr(1114111)"
   ],
   "metadata": {
    "collapsed": false,
    "pycharm": {
     "name": "#%%\n"
    }
   }
  },
  {
   "cell_type": "code",
   "execution_count": null,
   "outputs": [],
   "source": [
    "a = {2: 1, 1: 2, 3: 2, 4: 1}\n",
    "a[5] = 5\n",
    "print(list(a.keys()))"
   ],
   "metadata": {
    "collapsed": false,
    "pycharm": {
     "name": "#%%\n"
    }
   }
  },
  {
   "cell_type": "code",
   "execution_count": null,
   "outputs": [],
   "source": [
    "class TupleException(Exception):\n",
    "    def __init__(self, message):\n",
    "        self.message = message\n",
    "\n",
    "raise TupleException(\"not tuple\")"
   ],
   "metadata": {
    "collapsed": false,
    "pycharm": {
     "name": "#%%\n"
    }
   }
  },
  {
   "cell_type": "code",
   "execution_count": 1,
   "outputs": [
    {
     "data": {
      "text/plain": "str"
     },
     "execution_count": 1,
     "metadata": {},
     "output_type": "execute_result"
    }
   ],
   "source": [
    "import colorama\n",
    "type(colorama.Fore.RED)"
   ],
   "metadata": {
    "collapsed": false,
    "pycharm": {
     "name": "#%%\n"
    }
   }
  },
  {
   "cell_type": "code",
   "execution_count": 13,
   "outputs": [
    {
     "name": "stdout",
     "output_type": "stream",
     "text": [
      "0.03769579999971029\n",
      "0.0326535000003787\n"
     ]
    }
   ],
   "source": [
    "import timeit\n",
    "mas = [1, 2, 3]\n",
    "def a(m):\n",
    "\tm.append(1)\n",
    "tu = (1, 2, 3)\n",
    "def b(t):\n",
    "\tt = (*t, 2)\n",
    "print(timeit.timeit(stmt='a(mas)', number=100000, setup='''\n",
    "mas = [1, 2, 3, 4, 5, 6, 7, 8, 9, 10]\n",
    "def a(m):\n",
    "\tm.append(1)\n",
    "'''))\n",
    "print(timeit.timeit(stmt='b(tu)', number=100000, setup='''\n",
    "tu = (1, 2, 3, 4, 5, 6, 7, 8, 9, 10)\n",
    "def b(t):\n",
    "\tt = (*t, 2)\n",
    "'''))\n"
   ],
   "metadata": {
    "collapsed": false,
    "pycharm": {
     "name": "#%%\n"
    }
   }
  },
  {
   "cell_type": "code",
   "execution_count": 15,
   "outputs": [
    {
     "data": {
      "text/plain": "'file2.flac'"
     },
     "execution_count": 15,
     "metadata": {},
     "output_type": "execute_result"
    }
   ],
   "source": [
    "from pprint import pprint\n",
    "d = {'file1.mp3':251, 'file2.flac':149}\n",
    "max(d)"
   ],
   "metadata": {
    "collapsed": false,
    "pycharm": {
     "name": "#%%\n"
    }
   }
  },
  {
   "cell_type": "code",
   "execution_count": 14,
   "outputs": [
    {
     "data": {
      "text/plain": "'Пульсация'"
     },
     "execution_count": 14,
     "metadata": {},
     "output_type": "execute_result"
    }
   ],
   "source": [
    "import requests\n",
    "requests.post(\"https://randomall.ru/api/general/bookname\", json={'d': \"pqvqtwpprpuwuiwbfjcjbvojsifjejg\"}).json()\n"
   ],
   "metadata": {
    "collapsed": false,
    "pycharm": {
     "name": "#%%\n"
    }
   }
  },
  {
   "cell_type": "code",
   "execution_count": 1,
   "outputs": [
    {
     "name": "stdout",
     "output_type": "stream",
     "text": [
      "win32\n"
     ]
    }
   ],
   "source": [
    "from sys import platform\n",
    "print(platform)"
   ],
   "metadata": {
    "collapsed": false,
    "pycharm": {
     "name": "#%%\n"
    }
   }
  },
  {
   "cell_type": "code",
   "execution_count": 4,
   "outputs": [
    {
     "name": "stdout",
     "output_type": "stream",
     "text": [
      "Flight history size: "
     ]
    }
   ],
   "source": [
    "for i in range(int_input(\"Flight history size: \", -1)):\n",
    "    print(i)"
   ],
   "metadata": {
    "collapsed": false,
    "pycharm": {
     "name": "#%%\n"
    }
   }
  },
  {
   "cell_type": "code",
   "execution_count": 3,
   "outputs": [],
   "source": [
    "from koinput import int_input\n"
   ],
   "metadata": {
    "collapsed": false,
    "pycharm": {
     "name": "#%%\n"
    }
   }
  },
  {
   "cell_type": "code",
   "execution_count": 7,
   "outputs": [
    {
     "data": {
      "text/plain": "'f7038befb1f0cc9d56020d94ca041bb4'"
     },
     "execution_count": 7,
     "metadata": {},
     "output_type": "execute_result"
    }
   ],
   "source": [
    "from hashlib import md5\n",
    "md5('admin'.encode('utf32')).hexdigest()"
   ],
   "metadata": {
    "collapsed": false,
    "pycharm": {
     "name": "#%%\n"
    }
   }
  },
  {
   "cell_type": "code",
   "execution_count": 9,
   "outputs": [
    {
     "name": "stdout",
     "output_type": "stream",
     "text": [
      "[1, 3, <built-in function openssl_md5>]\n"
     ]
    }
   ],
   "source": [
    "from pprint import pprint\n",
    "pprint([1,3, md5])"
   ],
   "metadata": {
    "collapsed": false,
    "pycharm": {
     "name": "#%%\n"
    }
   }
  },
  {
   "cell_type": "code",
   "execution_count": 13,
   "outputs": [
    {
     "name": "stdout",
     "output_type": "stream",
     "text": [
      "{'рутинные', 'созрели', 'с', 'резервное', 'помощью', 'python', 'работоспособности', 'автоматизируют', 'эти', 'shell', 'файлов', 'поскольку', 'копирование', 'сценариев', 'повторяющиеся', 'команд', 'разработчики', 'для', 'и', 'однако', 'администраторы', 'как', 'оболочки', 'проверки', 'задачи', 'автоматизации', 'такие', 'выполнение', 'обычно', 'системные'}\n"
     ]
    }
   ],
   "source": [
    "print(set(input().replace('.', \"\").replace('!', \"\").replace('?', \"\").replace(',', \"\").replace(':', \"\")\n",
    "          .replace(';', \"\").replace('(', \"\").replace(')', \"\").replace('\"', \"\").lower().split()))"
   ],
   "metadata": {
    "collapsed": false,
    "pycharm": {
     "name": "#%%\n"
    }
   }
  },
  {
   "cell_type": "code",
   "execution_count": 2,
   "outputs": [
    {
     "name": "stdout",
     "output_type": "stream",
     "text": [
      "1\n"
     ]
    }
   ],
   "source": [
    "f = {}\n",
    "if not f:\n",
    "    print(1)"
   ],
   "metadata": {
    "collapsed": false,
    "pycharm": {
     "name": "#%%\n"
    }
   }
  },
  {
   "cell_type": "code",
   "execution_count": 7,
   "outputs": [],
   "source": [
    "import numpy as np\n",
    "import pandas as pd"
   ],
   "metadata": {
    "collapsed": false,
    "pycharm": {
     "name": "#%%\n"
    }
   }
  },
  {
   "cell_type": "code",
   "execution_count": 8,
   "outputs": [],
   "source": [
    "df = pd.read_csv('Оценка Равных - Оценка Равных.csv')\n",
    "df['1'] = df['Коды']"
   ],
   "metadata": {
    "collapsed": false,
    "pycharm": {
     "name": "#%%\n"
    }
   }
  },
  {
   "cell_type": "code",
   "execution_count": 9,
   "outputs": [
    {
     "data": {
      "text/plain": "    Подгруппа       Коды          1          2          3          4\n0           3  843916047  843916047        407        508  770617711\n1           3  172898565  172898565        402        510        409\n2           3  440216461  440216461  338466974        207        215\n3           3  591243304  591243304        207  882230640        210\n4           3  512436721  512436721        508        212  322228666\n5           3  998859110  998859110  843916047        409        406\n6           3  372567884  372567884        406  997772003  591243304\n7           3  282025018  282025018        410        204  109574846\n8           3  283899954  283899954  572708489        414        410\n9           3  726621849  726621849  283899954  384180923  512436721\n10          3  122851413  122851413        214        210        213\n11          3  384180923  384180923        403  770617711        510\n12          3  228162425  228162425  322228666        511        204\n13          3  322228666  322228666  998859110  372567884        507\n14          2        202        202        404        501  122851413\n15          2        204        204  253461558  572708489        202\n16          2        209        209  228162425  213261305  843916047\n17          2        207        207        210  998859110        208\n18          2        211        211        204  109574846  882230640\n19          2        214        214        411  338466974  283899954\n20          2        205        205        211  322228666  992626043\n21          2        215        215  651306573  122851413  338466974\n22          2        213        213  282025018  226669379  282025018\n23          2        208        208  384180923  999594766        411\n24          2        210        210  372567884        404        511\n25          2        212        212        213        211        501\n26          2        206        206  213261305  843916047        403\n27          1  572708489  572708489        206  651306573  651306573\n28          1  253461558  253461558        209        208  998859110\n29          1  997772003  997772003        413        406  572708489\n30          1  281939536  281939536        202  726621849  770617711\n31          1  992626043  992626043        510        205        415\n32          1  651306573  651306573        208  228162425        508\n33          1  175164875  175164875        409        410        211\n34          1  226669379  226669379  512436721        215  999594766\n35          1  999594766  999594766  770617711  281939536        402\n36          1  770617711  770617711  997772003  591243304        407\n37          1  213261305  213261305  175164875        403  384180923\n38          1  882230640  882230640        415  282025018        413\n39          1  109574846  109574846  992626043  253461558        209\n40          1  338466974  338466974  109574846  283899954        207\n41          4        407        407  882230640        507        214\n42          4        404        404  122851413        411        503\n43          4        413        413        511  440216461        404\n44          4        402        402  226669379  175164875  213261305\n45          4        410        410  591243304        402        414\n46          4        415        415        505        206        206\n47          4        414        414  281939536        407  226669379\n48          4        411        411  999594766        415        505\n49          4        409        409  440216461        209  281939536\n50          4        406        406  726621849  253461558  172898565\n51          4        403        403        214  172898565        212\n52          5        510        510        503  512436721  175164875\n53          5        503        503        205        213  372567884\n54          5        507        507  172898565        202  440216461\n55          5        511        511        501        505        205\n56          5        505        505        212        503  726621849\n57          5        508        508        215        413  997772003\n58          5        501        501        414  992626043  228162425",
      "text/html": "<div>\n<style scoped>\n    .dataframe tbody tr th:only-of-type {\n        vertical-align: middle;\n    }\n\n    .dataframe tbody tr th {\n        vertical-align: top;\n    }\n\n    .dataframe thead th {\n        text-align: right;\n    }\n</style>\n<table border=\"1\" class=\"dataframe\">\n  <thead>\n    <tr style=\"text-align: right;\">\n      <th></th>\n      <th>Подгруппа</th>\n      <th>Коды</th>\n      <th>1</th>\n      <th>2</th>\n      <th>3</th>\n      <th>4</th>\n    </tr>\n  </thead>\n  <tbody>\n    <tr>\n      <th>0</th>\n      <td>3</td>\n      <td>843916047</td>\n      <td>843916047</td>\n      <td>407</td>\n      <td>508</td>\n      <td>770617711</td>\n    </tr>\n    <tr>\n      <th>1</th>\n      <td>3</td>\n      <td>172898565</td>\n      <td>172898565</td>\n      <td>402</td>\n      <td>510</td>\n      <td>409</td>\n    </tr>\n    <tr>\n      <th>2</th>\n      <td>3</td>\n      <td>440216461</td>\n      <td>440216461</td>\n      <td>338466974</td>\n      <td>207</td>\n      <td>215</td>\n    </tr>\n    <tr>\n      <th>3</th>\n      <td>3</td>\n      <td>591243304</td>\n      <td>591243304</td>\n      <td>207</td>\n      <td>882230640</td>\n      <td>210</td>\n    </tr>\n    <tr>\n      <th>4</th>\n      <td>3</td>\n      <td>512436721</td>\n      <td>512436721</td>\n      <td>508</td>\n      <td>212</td>\n      <td>322228666</td>\n    </tr>\n    <tr>\n      <th>5</th>\n      <td>3</td>\n      <td>998859110</td>\n      <td>998859110</td>\n      <td>843916047</td>\n      <td>409</td>\n      <td>406</td>\n    </tr>\n    <tr>\n      <th>6</th>\n      <td>3</td>\n      <td>372567884</td>\n      <td>372567884</td>\n      <td>406</td>\n      <td>997772003</td>\n      <td>591243304</td>\n    </tr>\n    <tr>\n      <th>7</th>\n      <td>3</td>\n      <td>282025018</td>\n      <td>282025018</td>\n      <td>410</td>\n      <td>204</td>\n      <td>109574846</td>\n    </tr>\n    <tr>\n      <th>8</th>\n      <td>3</td>\n      <td>283899954</td>\n      <td>283899954</td>\n      <td>572708489</td>\n      <td>414</td>\n      <td>410</td>\n    </tr>\n    <tr>\n      <th>9</th>\n      <td>3</td>\n      <td>726621849</td>\n      <td>726621849</td>\n      <td>283899954</td>\n      <td>384180923</td>\n      <td>512436721</td>\n    </tr>\n    <tr>\n      <th>10</th>\n      <td>3</td>\n      <td>122851413</td>\n      <td>122851413</td>\n      <td>214</td>\n      <td>210</td>\n      <td>213</td>\n    </tr>\n    <tr>\n      <th>11</th>\n      <td>3</td>\n      <td>384180923</td>\n      <td>384180923</td>\n      <td>403</td>\n      <td>770617711</td>\n      <td>510</td>\n    </tr>\n    <tr>\n      <th>12</th>\n      <td>3</td>\n      <td>228162425</td>\n      <td>228162425</td>\n      <td>322228666</td>\n      <td>511</td>\n      <td>204</td>\n    </tr>\n    <tr>\n      <th>13</th>\n      <td>3</td>\n      <td>322228666</td>\n      <td>322228666</td>\n      <td>998859110</td>\n      <td>372567884</td>\n      <td>507</td>\n    </tr>\n    <tr>\n      <th>14</th>\n      <td>2</td>\n      <td>202</td>\n      <td>202</td>\n      <td>404</td>\n      <td>501</td>\n      <td>122851413</td>\n    </tr>\n    <tr>\n      <th>15</th>\n      <td>2</td>\n      <td>204</td>\n      <td>204</td>\n      <td>253461558</td>\n      <td>572708489</td>\n      <td>202</td>\n    </tr>\n    <tr>\n      <th>16</th>\n      <td>2</td>\n      <td>209</td>\n      <td>209</td>\n      <td>228162425</td>\n      <td>213261305</td>\n      <td>843916047</td>\n    </tr>\n    <tr>\n      <th>17</th>\n      <td>2</td>\n      <td>207</td>\n      <td>207</td>\n      <td>210</td>\n      <td>998859110</td>\n      <td>208</td>\n    </tr>\n    <tr>\n      <th>18</th>\n      <td>2</td>\n      <td>211</td>\n      <td>211</td>\n      <td>204</td>\n      <td>109574846</td>\n      <td>882230640</td>\n    </tr>\n    <tr>\n      <th>19</th>\n      <td>2</td>\n      <td>214</td>\n      <td>214</td>\n      <td>411</td>\n      <td>338466974</td>\n      <td>283899954</td>\n    </tr>\n    <tr>\n      <th>20</th>\n      <td>2</td>\n      <td>205</td>\n      <td>205</td>\n      <td>211</td>\n      <td>322228666</td>\n      <td>992626043</td>\n    </tr>\n    <tr>\n      <th>21</th>\n      <td>2</td>\n      <td>215</td>\n      <td>215</td>\n      <td>651306573</td>\n      <td>122851413</td>\n      <td>338466974</td>\n    </tr>\n    <tr>\n      <th>22</th>\n      <td>2</td>\n      <td>213</td>\n      <td>213</td>\n      <td>282025018</td>\n      <td>226669379</td>\n      <td>282025018</td>\n    </tr>\n    <tr>\n      <th>23</th>\n      <td>2</td>\n      <td>208</td>\n      <td>208</td>\n      <td>384180923</td>\n      <td>999594766</td>\n      <td>411</td>\n    </tr>\n    <tr>\n      <th>24</th>\n      <td>2</td>\n      <td>210</td>\n      <td>210</td>\n      <td>372567884</td>\n      <td>404</td>\n      <td>511</td>\n    </tr>\n    <tr>\n      <th>25</th>\n      <td>2</td>\n      <td>212</td>\n      <td>212</td>\n      <td>213</td>\n      <td>211</td>\n      <td>501</td>\n    </tr>\n    <tr>\n      <th>26</th>\n      <td>2</td>\n      <td>206</td>\n      <td>206</td>\n      <td>213261305</td>\n      <td>843916047</td>\n      <td>403</td>\n    </tr>\n    <tr>\n      <th>27</th>\n      <td>1</td>\n      <td>572708489</td>\n      <td>572708489</td>\n      <td>206</td>\n      <td>651306573</td>\n      <td>651306573</td>\n    </tr>\n    <tr>\n      <th>28</th>\n      <td>1</td>\n      <td>253461558</td>\n      <td>253461558</td>\n      <td>209</td>\n      <td>208</td>\n      <td>998859110</td>\n    </tr>\n    <tr>\n      <th>29</th>\n      <td>1</td>\n      <td>997772003</td>\n      <td>997772003</td>\n      <td>413</td>\n      <td>406</td>\n      <td>572708489</td>\n    </tr>\n    <tr>\n      <th>30</th>\n      <td>1</td>\n      <td>281939536</td>\n      <td>281939536</td>\n      <td>202</td>\n      <td>726621849</td>\n      <td>770617711</td>\n    </tr>\n    <tr>\n      <th>31</th>\n      <td>1</td>\n      <td>992626043</td>\n      <td>992626043</td>\n      <td>510</td>\n      <td>205</td>\n      <td>415</td>\n    </tr>\n    <tr>\n      <th>32</th>\n      <td>1</td>\n      <td>651306573</td>\n      <td>651306573</td>\n      <td>208</td>\n      <td>228162425</td>\n      <td>508</td>\n    </tr>\n    <tr>\n      <th>33</th>\n      <td>1</td>\n      <td>175164875</td>\n      <td>175164875</td>\n      <td>409</td>\n      <td>410</td>\n      <td>211</td>\n    </tr>\n    <tr>\n      <th>34</th>\n      <td>1</td>\n      <td>226669379</td>\n      <td>226669379</td>\n      <td>512436721</td>\n      <td>215</td>\n      <td>999594766</td>\n    </tr>\n    <tr>\n      <th>35</th>\n      <td>1</td>\n      <td>999594766</td>\n      <td>999594766</td>\n      <td>770617711</td>\n      <td>281939536</td>\n      <td>402</td>\n    </tr>\n    <tr>\n      <th>36</th>\n      <td>1</td>\n      <td>770617711</td>\n      <td>770617711</td>\n      <td>997772003</td>\n      <td>591243304</td>\n      <td>407</td>\n    </tr>\n    <tr>\n      <th>37</th>\n      <td>1</td>\n      <td>213261305</td>\n      <td>213261305</td>\n      <td>175164875</td>\n      <td>403</td>\n      <td>384180923</td>\n    </tr>\n    <tr>\n      <th>38</th>\n      <td>1</td>\n      <td>882230640</td>\n      <td>882230640</td>\n      <td>415</td>\n      <td>282025018</td>\n      <td>413</td>\n    </tr>\n    <tr>\n      <th>39</th>\n      <td>1</td>\n      <td>109574846</td>\n      <td>109574846</td>\n      <td>992626043</td>\n      <td>253461558</td>\n      <td>209</td>\n    </tr>\n    <tr>\n      <th>40</th>\n      <td>1</td>\n      <td>338466974</td>\n      <td>338466974</td>\n      <td>109574846</td>\n      <td>283899954</td>\n      <td>207</td>\n    </tr>\n    <tr>\n      <th>41</th>\n      <td>4</td>\n      <td>407</td>\n      <td>407</td>\n      <td>882230640</td>\n      <td>507</td>\n      <td>214</td>\n    </tr>\n    <tr>\n      <th>42</th>\n      <td>4</td>\n      <td>404</td>\n      <td>404</td>\n      <td>122851413</td>\n      <td>411</td>\n      <td>503</td>\n    </tr>\n    <tr>\n      <th>43</th>\n      <td>4</td>\n      <td>413</td>\n      <td>413</td>\n      <td>511</td>\n      <td>440216461</td>\n      <td>404</td>\n    </tr>\n    <tr>\n      <th>44</th>\n      <td>4</td>\n      <td>402</td>\n      <td>402</td>\n      <td>226669379</td>\n      <td>175164875</td>\n      <td>213261305</td>\n    </tr>\n    <tr>\n      <th>45</th>\n      <td>4</td>\n      <td>410</td>\n      <td>410</td>\n      <td>591243304</td>\n      <td>402</td>\n      <td>414</td>\n    </tr>\n    <tr>\n      <th>46</th>\n      <td>4</td>\n      <td>415</td>\n      <td>415</td>\n      <td>505</td>\n      <td>206</td>\n      <td>206</td>\n    </tr>\n    <tr>\n      <th>47</th>\n      <td>4</td>\n      <td>414</td>\n      <td>414</td>\n      <td>281939536</td>\n      <td>407</td>\n      <td>226669379</td>\n    </tr>\n    <tr>\n      <th>48</th>\n      <td>4</td>\n      <td>411</td>\n      <td>411</td>\n      <td>999594766</td>\n      <td>415</td>\n      <td>505</td>\n    </tr>\n    <tr>\n      <th>49</th>\n      <td>4</td>\n      <td>409</td>\n      <td>409</td>\n      <td>440216461</td>\n      <td>209</td>\n      <td>281939536</td>\n    </tr>\n    <tr>\n      <th>50</th>\n      <td>4</td>\n      <td>406</td>\n      <td>406</td>\n      <td>726621849</td>\n      <td>253461558</td>\n      <td>172898565</td>\n    </tr>\n    <tr>\n      <th>51</th>\n      <td>4</td>\n      <td>403</td>\n      <td>403</td>\n      <td>214</td>\n      <td>172898565</td>\n      <td>212</td>\n    </tr>\n    <tr>\n      <th>52</th>\n      <td>5</td>\n      <td>510</td>\n      <td>510</td>\n      <td>503</td>\n      <td>512436721</td>\n      <td>175164875</td>\n    </tr>\n    <tr>\n      <th>53</th>\n      <td>5</td>\n      <td>503</td>\n      <td>503</td>\n      <td>205</td>\n      <td>213</td>\n      <td>372567884</td>\n    </tr>\n    <tr>\n      <th>54</th>\n      <td>5</td>\n      <td>507</td>\n      <td>507</td>\n      <td>172898565</td>\n      <td>202</td>\n      <td>440216461</td>\n    </tr>\n    <tr>\n      <th>55</th>\n      <td>5</td>\n      <td>511</td>\n      <td>511</td>\n      <td>501</td>\n      <td>505</td>\n      <td>205</td>\n    </tr>\n    <tr>\n      <th>56</th>\n      <td>5</td>\n      <td>505</td>\n      <td>505</td>\n      <td>212</td>\n      <td>503</td>\n      <td>726621849</td>\n    </tr>\n    <tr>\n      <th>57</th>\n      <td>5</td>\n      <td>508</td>\n      <td>508</td>\n      <td>215</td>\n      <td>413</td>\n      <td>997772003</td>\n    </tr>\n    <tr>\n      <th>58</th>\n      <td>5</td>\n      <td>501</td>\n      <td>501</td>\n      <td>414</td>\n      <td>992626043</td>\n      <td>228162425</td>\n    </tr>\n  </tbody>\n</table>\n</div>"
     },
     "execution_count": 9,
     "metadata": {},
     "output_type": "execute_result"
    }
   ],
   "source": [
    "df"
   ],
   "metadata": {
    "collapsed": false,
    "pycharm": {
     "name": "#%%\n"
    }
   }
  },
  {
   "cell_type": "code",
   "execution_count": 10,
   "outputs": [],
   "source": [
    "tf = True\n",
    "while (tf):\n",
    "    df['1'] = np.random.permutation(df['1'].values)\n",
    "    df['2'] = np.random.permutation(df['1'].values)\n",
    "    df['3'] = np.random.permutation(df['1'].values)\n",
    "    df['4'] = np.random.permutation(df['1'].values)\n",
    "    tf = False\n",
    "    for i in df.index:\n",
    "        if len(df.loc[i]) != len(df.loc[i].unique()):\n",
    "            tf = True\n",
    "            break"
   ],
   "metadata": {
    "collapsed": false,
    "pycharm": {
     "name": "#%%\n"
    }
   }
  },
  {
   "cell_type": "code",
   "execution_count": 11,
   "outputs": [
    {
     "data": {
      "text/plain": "    Подгруппа       Коды          1          2          3          4\n0           3  843916047        413  384180923  213261305        206\n1           3  172898565  440216461        212        215        511\n2           3  440216461        503  283899954  726621849  512436721\n3           3  591243304        214        415  651306573  372567884\n4           3  512436721        415        503        212  109574846\n5           3  998859110        510        402        501        508\n6           3  372567884        207  172898565        510  992626043\n7           3  282025018        411        406        415  440216461\n8           3  283899954        202  372567884  384180923        403\n9           3  726621849  512436721  338466974        206  172898565\n10          3  122851413        204  440216461        508        215\n11          3  384180923        501  591243304        410  253461558\n12          3  228162425  384180923        214  253461558        210\n13          3  322228666  281939536  998859110  226669379  726621849\n14          2        202        205        209        211  226669379\n15          2        204  283899954        510        202        209\n16          2        209        402  572708489  281939536        415\n17          2        207  228162425        501        403        204\n18          2        211        209  999594766        204  651306573\n19          2        214        505        403        205        507\n20          2        205        508        414  843916047  282025018\n21          2        215        211        413        414  213261305\n22          2        213        507        505  770617711  843916047\n23          2        208  999594766  770617711        505        211\n24          2        210        208        206        402        213\n25          2        212        409        208        507  384180923\n26          2        206  109574846        409  372567884        406\n27          1  572708489        511  109574846  228162425        208\n28          1  253461558        206        210  999594766        501\n29          1  997772003        404        215        407        411\n30          1  281939536  338466974  175164875  591243304  998859110\n31          1  992626043        407        410  282025018  322228666\n32          1  651306573        406        407  109574846  997772003\n33          1  175164875  843916047  997772003        209  281939536\n34          1  226669379  213261305  882230640  322228666        410\n35          1  999594766        410        211  172898565        205\n36          1  770617711  882230640  726621849        213        212\n37          1  213261305        403  992626043  998859110  999594766\n38          1  882230640  372567884  213261305  283899954        413\n39          1  109574846  992626043  253461558        409  175164875\n40          1  338466974        414  322228666  882230640  228162425\n41          4        407        212        205        413        503\n42          4        404  998859110        213        214        207\n43          4        413  572708489        204        411        214\n44          4        402  726621849        404        511  770617711\n45          4        410  175164875  226669379        207  572708489\n46          4        415  997772003  228162425  175164875        407\n47          4        414  282025018        411  338466974  591243304\n48          4        411  253461558        207  440216461        505\n49          4        409        213        511        210        404\n50          4        406  591243304  651306573  122851413        202\n51          4        403        215        507  992626043        510\n52          5        510  322228666  512436721        404  122851413\n53          5        503  122851413        202  997772003  338466974\n54          5        507  226669379  282025018  572708489        414\n55          5        511  651306573  843916047        406        402\n56          5        505  172898565        508  512436721        409\n57          5        508  770617711  281939536        208  882230640\n58          5        501        210  122851413        503  283899954",
      "text/html": "<div>\n<style scoped>\n    .dataframe tbody tr th:only-of-type {\n        vertical-align: middle;\n    }\n\n    .dataframe tbody tr th {\n        vertical-align: top;\n    }\n\n    .dataframe thead th {\n        text-align: right;\n    }\n</style>\n<table border=\"1\" class=\"dataframe\">\n  <thead>\n    <tr style=\"text-align: right;\">\n      <th></th>\n      <th>Подгруппа</th>\n      <th>Коды</th>\n      <th>1</th>\n      <th>2</th>\n      <th>3</th>\n      <th>4</th>\n    </tr>\n  </thead>\n  <tbody>\n    <tr>\n      <th>0</th>\n      <td>3</td>\n      <td>843916047</td>\n      <td>413</td>\n      <td>384180923</td>\n      <td>213261305</td>\n      <td>206</td>\n    </tr>\n    <tr>\n      <th>1</th>\n      <td>3</td>\n      <td>172898565</td>\n      <td>440216461</td>\n      <td>212</td>\n      <td>215</td>\n      <td>511</td>\n    </tr>\n    <tr>\n      <th>2</th>\n      <td>3</td>\n      <td>440216461</td>\n      <td>503</td>\n      <td>283899954</td>\n      <td>726621849</td>\n      <td>512436721</td>\n    </tr>\n    <tr>\n      <th>3</th>\n      <td>3</td>\n      <td>591243304</td>\n      <td>214</td>\n      <td>415</td>\n      <td>651306573</td>\n      <td>372567884</td>\n    </tr>\n    <tr>\n      <th>4</th>\n      <td>3</td>\n      <td>512436721</td>\n      <td>415</td>\n      <td>503</td>\n      <td>212</td>\n      <td>109574846</td>\n    </tr>\n    <tr>\n      <th>5</th>\n      <td>3</td>\n      <td>998859110</td>\n      <td>510</td>\n      <td>402</td>\n      <td>501</td>\n      <td>508</td>\n    </tr>\n    <tr>\n      <th>6</th>\n      <td>3</td>\n      <td>372567884</td>\n      <td>207</td>\n      <td>172898565</td>\n      <td>510</td>\n      <td>992626043</td>\n    </tr>\n    <tr>\n      <th>7</th>\n      <td>3</td>\n      <td>282025018</td>\n      <td>411</td>\n      <td>406</td>\n      <td>415</td>\n      <td>440216461</td>\n    </tr>\n    <tr>\n      <th>8</th>\n      <td>3</td>\n      <td>283899954</td>\n      <td>202</td>\n      <td>372567884</td>\n      <td>384180923</td>\n      <td>403</td>\n    </tr>\n    <tr>\n      <th>9</th>\n      <td>3</td>\n      <td>726621849</td>\n      <td>512436721</td>\n      <td>338466974</td>\n      <td>206</td>\n      <td>172898565</td>\n    </tr>\n    <tr>\n      <th>10</th>\n      <td>3</td>\n      <td>122851413</td>\n      <td>204</td>\n      <td>440216461</td>\n      <td>508</td>\n      <td>215</td>\n    </tr>\n    <tr>\n      <th>11</th>\n      <td>3</td>\n      <td>384180923</td>\n      <td>501</td>\n      <td>591243304</td>\n      <td>410</td>\n      <td>253461558</td>\n    </tr>\n    <tr>\n      <th>12</th>\n      <td>3</td>\n      <td>228162425</td>\n      <td>384180923</td>\n      <td>214</td>\n      <td>253461558</td>\n      <td>210</td>\n    </tr>\n    <tr>\n      <th>13</th>\n      <td>3</td>\n      <td>322228666</td>\n      <td>281939536</td>\n      <td>998859110</td>\n      <td>226669379</td>\n      <td>726621849</td>\n    </tr>\n    <tr>\n      <th>14</th>\n      <td>2</td>\n      <td>202</td>\n      <td>205</td>\n      <td>209</td>\n      <td>211</td>\n      <td>226669379</td>\n    </tr>\n    <tr>\n      <th>15</th>\n      <td>2</td>\n      <td>204</td>\n      <td>283899954</td>\n      <td>510</td>\n      <td>202</td>\n      <td>209</td>\n    </tr>\n    <tr>\n      <th>16</th>\n      <td>2</td>\n      <td>209</td>\n      <td>402</td>\n      <td>572708489</td>\n      <td>281939536</td>\n      <td>415</td>\n    </tr>\n    <tr>\n      <th>17</th>\n      <td>2</td>\n      <td>207</td>\n      <td>228162425</td>\n      <td>501</td>\n      <td>403</td>\n      <td>204</td>\n    </tr>\n    <tr>\n      <th>18</th>\n      <td>2</td>\n      <td>211</td>\n      <td>209</td>\n      <td>999594766</td>\n      <td>204</td>\n      <td>651306573</td>\n    </tr>\n    <tr>\n      <th>19</th>\n      <td>2</td>\n      <td>214</td>\n      <td>505</td>\n      <td>403</td>\n      <td>205</td>\n      <td>507</td>\n    </tr>\n    <tr>\n      <th>20</th>\n      <td>2</td>\n      <td>205</td>\n      <td>508</td>\n      <td>414</td>\n      <td>843916047</td>\n      <td>282025018</td>\n    </tr>\n    <tr>\n      <th>21</th>\n      <td>2</td>\n      <td>215</td>\n      <td>211</td>\n      <td>413</td>\n      <td>414</td>\n      <td>213261305</td>\n    </tr>\n    <tr>\n      <th>22</th>\n      <td>2</td>\n      <td>213</td>\n      <td>507</td>\n      <td>505</td>\n      <td>770617711</td>\n      <td>843916047</td>\n    </tr>\n    <tr>\n      <th>23</th>\n      <td>2</td>\n      <td>208</td>\n      <td>999594766</td>\n      <td>770617711</td>\n      <td>505</td>\n      <td>211</td>\n    </tr>\n    <tr>\n      <th>24</th>\n      <td>2</td>\n      <td>210</td>\n      <td>208</td>\n      <td>206</td>\n      <td>402</td>\n      <td>213</td>\n    </tr>\n    <tr>\n      <th>25</th>\n      <td>2</td>\n      <td>212</td>\n      <td>409</td>\n      <td>208</td>\n      <td>507</td>\n      <td>384180923</td>\n    </tr>\n    <tr>\n      <th>26</th>\n      <td>2</td>\n      <td>206</td>\n      <td>109574846</td>\n      <td>409</td>\n      <td>372567884</td>\n      <td>406</td>\n    </tr>\n    <tr>\n      <th>27</th>\n      <td>1</td>\n      <td>572708489</td>\n      <td>511</td>\n      <td>109574846</td>\n      <td>228162425</td>\n      <td>208</td>\n    </tr>\n    <tr>\n      <th>28</th>\n      <td>1</td>\n      <td>253461558</td>\n      <td>206</td>\n      <td>210</td>\n      <td>999594766</td>\n      <td>501</td>\n    </tr>\n    <tr>\n      <th>29</th>\n      <td>1</td>\n      <td>997772003</td>\n      <td>404</td>\n      <td>215</td>\n      <td>407</td>\n      <td>411</td>\n    </tr>\n    <tr>\n      <th>30</th>\n      <td>1</td>\n      <td>281939536</td>\n      <td>338466974</td>\n      <td>175164875</td>\n      <td>591243304</td>\n      <td>998859110</td>\n    </tr>\n    <tr>\n      <th>31</th>\n      <td>1</td>\n      <td>992626043</td>\n      <td>407</td>\n      <td>410</td>\n      <td>282025018</td>\n      <td>322228666</td>\n    </tr>\n    <tr>\n      <th>32</th>\n      <td>1</td>\n      <td>651306573</td>\n      <td>406</td>\n      <td>407</td>\n      <td>109574846</td>\n      <td>997772003</td>\n    </tr>\n    <tr>\n      <th>33</th>\n      <td>1</td>\n      <td>175164875</td>\n      <td>843916047</td>\n      <td>997772003</td>\n      <td>209</td>\n      <td>281939536</td>\n    </tr>\n    <tr>\n      <th>34</th>\n      <td>1</td>\n      <td>226669379</td>\n      <td>213261305</td>\n      <td>882230640</td>\n      <td>322228666</td>\n      <td>410</td>\n    </tr>\n    <tr>\n      <th>35</th>\n      <td>1</td>\n      <td>999594766</td>\n      <td>410</td>\n      <td>211</td>\n      <td>172898565</td>\n      <td>205</td>\n    </tr>\n    <tr>\n      <th>36</th>\n      <td>1</td>\n      <td>770617711</td>\n      <td>882230640</td>\n      <td>726621849</td>\n      <td>213</td>\n      <td>212</td>\n    </tr>\n    <tr>\n      <th>37</th>\n      <td>1</td>\n      <td>213261305</td>\n      <td>403</td>\n      <td>992626043</td>\n      <td>998859110</td>\n      <td>999594766</td>\n    </tr>\n    <tr>\n      <th>38</th>\n      <td>1</td>\n      <td>882230640</td>\n      <td>372567884</td>\n      <td>213261305</td>\n      <td>283899954</td>\n      <td>413</td>\n    </tr>\n    <tr>\n      <th>39</th>\n      <td>1</td>\n      <td>109574846</td>\n      <td>992626043</td>\n      <td>253461558</td>\n      <td>409</td>\n      <td>175164875</td>\n    </tr>\n    <tr>\n      <th>40</th>\n      <td>1</td>\n      <td>338466974</td>\n      <td>414</td>\n      <td>322228666</td>\n      <td>882230640</td>\n      <td>228162425</td>\n    </tr>\n    <tr>\n      <th>41</th>\n      <td>4</td>\n      <td>407</td>\n      <td>212</td>\n      <td>205</td>\n      <td>413</td>\n      <td>503</td>\n    </tr>\n    <tr>\n      <th>42</th>\n      <td>4</td>\n      <td>404</td>\n      <td>998859110</td>\n      <td>213</td>\n      <td>214</td>\n      <td>207</td>\n    </tr>\n    <tr>\n      <th>43</th>\n      <td>4</td>\n      <td>413</td>\n      <td>572708489</td>\n      <td>204</td>\n      <td>411</td>\n      <td>214</td>\n    </tr>\n    <tr>\n      <th>44</th>\n      <td>4</td>\n      <td>402</td>\n      <td>726621849</td>\n      <td>404</td>\n      <td>511</td>\n      <td>770617711</td>\n    </tr>\n    <tr>\n      <th>45</th>\n      <td>4</td>\n      <td>410</td>\n      <td>175164875</td>\n      <td>226669379</td>\n      <td>207</td>\n      <td>572708489</td>\n    </tr>\n    <tr>\n      <th>46</th>\n      <td>4</td>\n      <td>415</td>\n      <td>997772003</td>\n      <td>228162425</td>\n      <td>175164875</td>\n      <td>407</td>\n    </tr>\n    <tr>\n      <th>47</th>\n      <td>4</td>\n      <td>414</td>\n      <td>282025018</td>\n      <td>411</td>\n      <td>338466974</td>\n      <td>591243304</td>\n    </tr>\n    <tr>\n      <th>48</th>\n      <td>4</td>\n      <td>411</td>\n      <td>253461558</td>\n      <td>207</td>\n      <td>440216461</td>\n      <td>505</td>\n    </tr>\n    <tr>\n      <th>49</th>\n      <td>4</td>\n      <td>409</td>\n      <td>213</td>\n      <td>511</td>\n      <td>210</td>\n      <td>404</td>\n    </tr>\n    <tr>\n      <th>50</th>\n      <td>4</td>\n      <td>406</td>\n      <td>591243304</td>\n      <td>651306573</td>\n      <td>122851413</td>\n      <td>202</td>\n    </tr>\n    <tr>\n      <th>51</th>\n      <td>4</td>\n      <td>403</td>\n      <td>215</td>\n      <td>507</td>\n      <td>992626043</td>\n      <td>510</td>\n    </tr>\n    <tr>\n      <th>52</th>\n      <td>5</td>\n      <td>510</td>\n      <td>322228666</td>\n      <td>512436721</td>\n      <td>404</td>\n      <td>122851413</td>\n    </tr>\n    <tr>\n      <th>53</th>\n      <td>5</td>\n      <td>503</td>\n      <td>122851413</td>\n      <td>202</td>\n      <td>997772003</td>\n      <td>338466974</td>\n    </tr>\n    <tr>\n      <th>54</th>\n      <td>5</td>\n      <td>507</td>\n      <td>226669379</td>\n      <td>282025018</td>\n      <td>572708489</td>\n      <td>414</td>\n    </tr>\n    <tr>\n      <th>55</th>\n      <td>5</td>\n      <td>511</td>\n      <td>651306573</td>\n      <td>843916047</td>\n      <td>406</td>\n      <td>402</td>\n    </tr>\n    <tr>\n      <th>56</th>\n      <td>5</td>\n      <td>505</td>\n      <td>172898565</td>\n      <td>508</td>\n      <td>512436721</td>\n      <td>409</td>\n    </tr>\n    <tr>\n      <th>57</th>\n      <td>5</td>\n      <td>508</td>\n      <td>770617711</td>\n      <td>281939536</td>\n      <td>208</td>\n      <td>882230640</td>\n    </tr>\n    <tr>\n      <th>58</th>\n      <td>5</td>\n      <td>501</td>\n      <td>210</td>\n      <td>122851413</td>\n      <td>503</td>\n      <td>283899954</td>\n    </tr>\n  </tbody>\n</table>\n</div>"
     },
     "execution_count": 11,
     "metadata": {},
     "output_type": "execute_result"
    }
   ],
   "source": [
    "df"
   ],
   "metadata": {
    "collapsed": false,
    "pycharm": {
     "name": "#%%\n"
    }
   }
  },
  {
   "cell_type": "code",
   "execution_count": 12,
   "outputs": [],
   "source": [
    "df.to_csv('Оценка Равных.csv')"
   ],
   "metadata": {
    "collapsed": false,
    "pycharm": {
     "name": "#%%\n"
    }
   }
  },
  {
   "cell_type": "code",
   "execution_count": null,
   "outputs": [],
   "source": [],
   "metadata": {
    "collapsed": false,
    "pycharm": {
     "name": "#%%\n"
    }
   }
  }
 ],
 "metadata": {
  "kernelspec": {
   "name": "python3",
   "language": "python",
   "display_name": "Python 3"
  },
  "language_info": {
   "codemirror_mode": {
    "name": "ipython",
    "version": 2
   },
   "file_extension": ".py",
   "mimetype": "text/x-python",
   "name": "python",
   "nbconvert_exporter": "python",
   "pygments_lexer": "ipython2",
   "version": "2.7.6"
  }
 },
 "nbformat": 4,
 "nbformat_minor": 0
}