{
 "cells": [
  {
   "cell_type": "code",
   "execution_count": null,
   "outputs": [],
   "source": [
    "import sys\n",
    "\n",
    "def progress(count, total, suffix=''):\n",
    "    bar_len = 40\n",
    "    filled_len = int(round(bar_len * count / float(total)))\n",
    "\n",
    "    percents = round(100.0 * count / float(total), 1)\n",
    "    bar = '=' * filled_len + '-' * (bar_len - filled_len)\n",
    "\n",
    "    sys.stdout.write('[%s] %s%s ...%s\\r' % (bar, percents, '%', suffix))\n",
    "    sys.stdout.flush()\n",
    "\n",
    "\n",
    "def test():\n",
    "    for i in range(10000):\n",
    "        progress(i, 10000, 'обработано')\n",
    "\n",
    "\n",
    "test()"
   ],
   "metadata": {
    "collapsed": false,
    "pycharm": {
     "name": "#%%\n"
    }
   }
  },
  {
   "cell_type": "code",
   "execution_count": null,
   "outputs": [],
   "source": [
    "from colorama import Fore, Back, Style\n",
    "sys.stdout.write(Fore.RED + '\\r')\n",
    "sys.stdout.flush()\n",
    "#sys.stdout.write(\"132\")\n",
    "\n"
   ],
   "metadata": {
    "collapsed": false,
    "pycharm": {
     "name": "#%%\n"
    }
   }
  },
  {
   "cell_type": "code",
   "execution_count": null,
   "outputs": [],
   "source": [
    "chr(1114111)"
   ],
   "metadata": {
    "collapsed": false,
    "pycharm": {
     "name": "#%%\n"
    }
   }
  },
  {
   "cell_type": "code",
   "execution_count": null,
   "outputs": [],
   "source": [
    "a = {2: 1, 1: 2, 3: 2, 4: 1}\n",
    "a[5] = 5\n",
    "print(list(a.keys()))"
   ],
   "metadata": {
    "collapsed": false,
    "pycharm": {
     "name": "#%%\n"
    }
   }
  },
  {
   "cell_type": "code",
   "execution_count": null,
   "outputs": [],
   "source": [
    "class TupleException(Exception):\n",
    "    def __init__(self, message):\n",
    "        self.message = message\n",
    "\n",
    "raise TupleException(\"not tuple\")"
   ],
   "metadata": {
    "collapsed": false,
    "pycharm": {
     "name": "#%%\n"
    }
   }
  },
  {
   "cell_type": "code",
   "execution_count": 1,
   "outputs": [
    {
     "data": {
      "text/plain": "str"
     },
     "execution_count": 1,
     "metadata": {},
     "output_type": "execute_result"
    }
   ],
   "source": [
    "import colorama\n",
    "type(colorama.Fore.RED)"
   ],
   "metadata": {
    "collapsed": false,
    "pycharm": {
     "name": "#%%\n"
    }
   }
  },
  {
   "cell_type": "code",
   "execution_count": 13,
   "outputs": [
    {
     "name": "stdout",
     "output_type": "stream",
     "text": [
      "0.03769579999971029\n",
      "0.0326535000003787\n"
     ]
    }
   ],
   "source": [
    "import timeit\n",
    "mas = [1, 2, 3]\n",
    "def a(m):\n",
    "\tm.append(1)\n",
    "tu = (1, 2, 3)\n",
    "def b(t):\n",
    "\tt = (*t, 2)\n",
    "print(timeit.timeit(stmt='a(mas)', number=100000, setup='''\n",
    "mas = [1, 2, 3, 4, 5, 6, 7, 8, 9, 10]\n",
    "def a(m):\n",
    "\tm.append(1)\n",
    "'''))\n",
    "print(timeit.timeit(stmt='b(tu)', number=100000, setup='''\n",
    "tu = (1, 2, 3, 4, 5, 6, 7, 8, 9, 10)\n",
    "def b(t):\n",
    "\tt = (*t, 2)\n",
    "'''))\n"
   ],
   "metadata": {
    "collapsed": false,
    "pycharm": {
     "name": "#%%\n"
    }
   }
  },
  {
   "cell_type": "code",
   "execution_count": 15,
   "outputs": [
    {
     "data": {
      "text/plain": "'file2.flac'"
     },
     "execution_count": 15,
     "metadata": {},
     "output_type": "execute_result"
    }
   ],
   "source": [
    "from pprint import pprint\n",
    "d = {'file1.mp3':251, 'file2.flac':149}\n",
    "max(d)"
   ],
   "metadata": {
    "collapsed": false,
    "pycharm": {
     "name": "#%%\n"
    }
   }
  },
  {
   "cell_type": "code",
   "execution_count": 14,
   "outputs": [
    {
     "data": {
      "text/plain": "'Пульсация'"
     },
     "execution_count": 14,
     "metadata": {},
     "output_type": "execute_result"
    }
   ],
   "source": [
    "import requests\n",
    "requests.post(\"https://randomall.ru/api/general/bookname\", json={'d': \"pqvqtwpprpuwuiwbfjcjbvojsifjejg\"}).json()\n"
   ],
   "metadata": {
    "collapsed": false,
    "pycharm": {
     "name": "#%%\n"
    }
   }
  },
  {
   "cell_type": "code",
   "execution_count": 1,
   "outputs": [
    {
     "name": "stdout",
     "output_type": "stream",
     "text": [
      "win32\n"
     ]
    }
   ],
   "source": [
    "from sys import platform\n",
    "print(platform)"
   ],
   "metadata": {
    "collapsed": false,
    "pycharm": {
     "name": "#%%\n"
    }
   }
  },
  {
   "cell_type": "code",
   "execution_count": 4,
   "outputs": [
    {
     "name": "stdout",
     "output_type": "stream",
     "text": [
      "Flight history size: "
     ]
    }
   ],
   "source": [
    "for i in range(int_input(\"Flight history size: \", -1)):\n",
    "    print(i)"
   ],
   "metadata": {
    "collapsed": false,
    "pycharm": {
     "name": "#%%\n"
    }
   }
  },
  {
   "cell_type": "code",
   "execution_count": 3,
   "outputs": [],
   "source": [
    "from koinput import int_input\n"
   ],
   "metadata": {
    "collapsed": false,
    "pycharm": {
     "name": "#%%\n"
    }
   }
  },
  {
   "cell_type": "code",
   "execution_count": 7,
   "outputs": [
    {
     "data": {
      "text/plain": "'f7038befb1f0cc9d56020d94ca041bb4'"
     },
     "execution_count": 7,
     "metadata": {},
     "output_type": "execute_result"
    }
   ],
   "source": [
    "from hashlib import md5\n",
    "md5('admin'.encode('utf32')).hexdigest()"
   ],
   "metadata": {
    "collapsed": false,
    "pycharm": {
     "name": "#%%\n"
    }
   }
  },
  {
   "cell_type": "code",
   "execution_count": 9,
   "outputs": [
    {
     "name": "stdout",
     "output_type": "stream",
     "text": [
      "[1, 3, <built-in function openssl_md5>]\n"
     ]
    }
   ],
   "source": [
    "from pprint import pprint\n",
    "pprint([1,3, md5])"
   ],
   "metadata": {
    "collapsed": false,
    "pycharm": {
     "name": "#%%\n"
    }
   }
  },
  {
   "cell_type": "code",
   "execution_count": 13,
   "outputs": [
    {
     "name": "stdout",
     "output_type": "stream",
     "text": [
      "{'рутинные', 'созрели', 'с', 'резервное', 'помощью', 'python', 'работоспособности', 'автоматизируют', 'эти', 'shell', 'файлов', 'поскольку', 'копирование', 'сценариев', 'повторяющиеся', 'команд', 'разработчики', 'для', 'и', 'однако', 'администраторы', 'как', 'оболочки', 'проверки', 'задачи', 'автоматизации', 'такие', 'выполнение', 'обычно', 'системные'}\n"
     ]
    }
   ],
   "source": [
    "print(set(input().replace('.', \"\").replace('!', \"\").replace('?', \"\").replace(',', \"\").replace(':', \"\")\n",
    "          .replace(';', \"\").replace('(', \"\").replace(')', \"\").replace('\"', \"\").lower().split()))"
   ],
   "metadata": {
    "collapsed": false,
    "pycharm": {
     "name": "#%%\n"
    }
   }
  },
  {
   "cell_type": "code",
   "execution_count": null,
   "outputs": [],
   "source": [],
   "metadata": {
    "collapsed": false,
    "pycharm": {
     "name": "#%%\n"
    }
   }
  }
 ],
 "metadata": {
  "kernelspec": {
   "name": "python3",
   "language": "python",
   "display_name": "Python 3"
  },
  "language_info": {
   "codemirror_mode": {
    "name": "ipython",
    "version": 2
   },
   "file_extension": ".py",
   "mimetype": "text/x-python",
   "name": "python",
   "nbconvert_exporter": "python",
   "pygments_lexer": "ipython2",
   "version": "2.7.6"
  }
 },
 "nbformat": 4,
 "nbformat_minor": 0
}